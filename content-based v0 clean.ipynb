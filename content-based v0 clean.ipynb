{
 "cells": [
  {
   "cell_type": "code",
   "execution_count": 2,
   "metadata": {},
   "outputs": [],
   "source": [
    "from langdetect import detect\n",
    "import time\n",
    "from statistics import mean\n",
    "from collections import Counter\n",
    "import numpy as np\n",
    "from pandas import DataFrame\n",
    "import pandas as pd\n",
    "import sklearn\n",
    "from sklearn.feature_extraction.text import TfidfVectorizer\n",
    "from sklearn.metrics.pairwise import cosine_similarity\n",
    "from sklearn.metrics.pairwise import linear_kernel"
   ]
  },
  {
   "cell_type": "code",
   "execution_count": 11,
   "metadata": {},
   "outputs": [],
   "source": [
    "items=pd.read_csv(\"items.csv\", sep=\"|\")\n",
    "transactions=pd.read_csv(\"transactions.csv\", sep=\"|\")\n",
    "evaluation=pd.read_csv(\"evaluation.csv\")\n",
    "popularity = pd.read_csv(\"items_popularity.csv\", sep = \"|\")\n",
    "df=items"
   ]
  },
  {
   "cell_type": "markdown",
   "metadata": {},
   "source": [
    "### Determining languages\n",
    "Computing takes about 10 mins. Not used in recs algorithm, can be skipped."
   ]
  },
  {
   "cell_type": "code",
   "execution_count": 39,
   "metadata": {},
   "outputs": [
    {
     "name": "stdout",
     "output_type": "stream",
     "text": [
      "mean time elapsed:  0.008733441819598335  sum time:  681.470465183258\n"
     ]
    }
   ],
   "source": [
    "# list of items and their languages:\n",
    "lang=list()\n",
    "\n",
    "# list of items with undefined language:\n",
    "notok=list()\n",
    "\n",
    "ttime=list()\n",
    "\n",
    "for row in df.iterrows():\n",
    "    tic = time.time()\n",
    "    #print(row[1][0])\n",
    "    try:\n",
    "        lang.append(list((row[1][0], detect(row[1][1]))))\n",
    "    except: \n",
    "        lang.append(list((row[1][0], \"??\")))\n",
    "        notok.append(row)\n",
    "        #print(\"not ok 00000000000000000000000000000000000000000000000000000000000\")\n",
    "    toc = time.time()\n",
    "    ttime.append(toc-tic)\n",
    "print(\"mean time elapsed: \",mean(ttime),\" sum time: \", sum(ttime))\n"
   ]
  },
  {
   "cell_type": "code",
   "execution_count": 40,
   "metadata": {},
   "outputs": [
    {
     "name": "stdout",
     "output_type": "stream",
     "text": [
      "51\n",
      "144000\n",
      "2312\n",
      "1984\n",
      "381\n",
      "1984\n",
      "2034\n",
      "2021\n",
      "2037\n",
      "43\n",
      "2069\n",
      "2121\n",
      "2394\n",
      "2121\n",
      "17\n",
      "2048\n",
      "2121\n",
      "1632\n",
      "Ferris@Bruns_LLC\n",
      "1814\n",
      "2012\n",
      "11\n",
      "!!\n",
      "Tajo@Bruns_LLC\n",
      "1,2,3\n",
      "110\n",
      "5:55\n",
      "1906\n",
      "1906\n",
      "2030\n",
      "2047\n",
      "444\n",
      "444\n",
      "2501\n",
      "2060\n",
      "5028\n",
      "2084\n",
      "2053\n",
      "1520-1522\n",
      "2145\n",
      "1523-1526\n",
      "1712\n",
      "2084\n",
      "2625\n",
      "2084\n",
      ">\n",
      "2156\n",
      "6984\n",
      "12\n",
      "71%\n",
      "4\n",
      "2049\n"
     ]
    }
   ],
   "source": [
    "# exploring the undefined-language items\n",
    "print(len(notok))\n",
    "for item in notok:\n",
    "    print(item[1][\"title\"])"
   ]
  },
  {
   "cell_type": "code",
   "execution_count": 41,
   "metadata": {},
   "outputs": [
    {
     "name": "stdout",
     "output_type": "stream",
     "text": [
      "   language  frequency\n",
      "0        en      40223\n",
      "1        de      19991\n",
      "8        es       3105\n",
      "6        it       1503\n",
      "12       fr       1266\n",
      "16       nl       1144\n",
      "2        af       1103\n",
      "3        id        882\n",
      "19       tl        860\n",
      "4        pt        806\n",
      "5        no        754\n",
      "7        da        724\n",
      "9        ca        716\n",
      "29       cy        589\n",
      "11       ro        571\n",
      "10       sv        567\n",
      "22       so        440\n",
      "24       et        427\n",
      "14       fi        374\n",
      "27       sw        337\n",
      "23       pl        276\n",
      "17       tr        242\n",
      "15       lt        223\n",
      "28       vi        164\n",
      "25       hu        158\n",
      "20       hr        142\n",
      "26       sl        133\n",
      "21       sq         86\n",
      "18       sk         83\n",
      "13       ??         51\n",
      "30       lv         47\n",
      "31       cs         43\n"
     ]
    }
   ],
   "source": [
    "# list of languages only:\n",
    "langpure=list()\n",
    "for item in lang:\n",
    "    langpure.append(item[1])\n",
    "\n",
    "# exploring frequencies of languages:\n",
    "freqs = Counter(langpure)\n",
    "freqsdf = pd.DataFrame(list(freqs.items()),columns = ['language','frequency']) \n",
    "freqsdf=freqsdf.sort_values(\"frequency\", ascending=False)\n",
    "print(freqsdf)"
   ]
  },
  {
   "cell_type": "code",
   "execution_count": 42,
   "metadata": {},
   "outputs": [],
   "source": [
    "# adding language data to dataframe:\n",
    "df[\"language\"]= np.asarray(langpure)"
   ]
  },
  {
   "cell_type": "markdown",
   "metadata": {},
   "source": [
    "### Preprocessing"
   ]
  },
  {
   "cell_type": "code",
   "execution_count": 12,
   "metadata": {},
   "outputs": [
    {
     "data": {
      "text/plain": [
       "itemID           0\n",
       "title            0\n",
       "author        3247\n",
       "publisher        9\n",
       "main topic     259\n",
       "subtopics        0\n",
       "dtype: int64"
      ]
     },
     "execution_count": 12,
     "metadata": {},
     "output_type": "execute_result"
    }
   ],
   "source": [
    "# checking, which columns contain null values\n",
    "df.isna().sum()"
   ]
  },
  {
   "cell_type": "code",
   "execution_count": 13,
   "metadata": {},
   "outputs": [],
   "source": [
    "# filling null values\n",
    "df['title'] = df['title'].fillna(\"no_title\")\n",
    "df['author'] = df['author'].fillna(\"no_author\")\n",
    "df['publisher'] = df['publisher'].fillna(\"no_publisher\")\n",
    "df['main topic'] = df['main topic'].fillna(\"no_main_topic\")\n",
    "df['subtopics'] = df['subtopics'].fillna(\"no_subtopics\")"
   ]
  },
  {
   "cell_type": "code",
   "execution_count": 14,
   "metadata": {},
   "outputs": [
    {
     "data": {
      "text/plain": [
       "itemID        0\n",
       "title         0\n",
       "author        0\n",
       "publisher     0\n",
       "main topic    0\n",
       "subtopics     0\n",
       "dtype: int64"
      ]
     },
     "execution_count": 14,
     "metadata": {},
     "output_type": "execute_result"
    }
   ],
   "source": [
    "# checking that filling null values worked\n",
    "df.isna().sum()"
   ]
  },
  {
   "cell_type": "code",
   "execution_count": 15,
   "metadata": {},
   "outputs": [],
   "source": [
    "# Processing \"subtopics\" column:\n",
    "# replacing \"[]\" with \"no_subtopics\", \n",
    "# removing \"[\" and \"]\" everywhere else\n",
    "df['subtopics'] = df['subtopics'].map(lambda x: x.lstrip('[').rstrip(']'))\n",
    "df=df.replace(r'^\\s*$', \"no_subtopics\", regex=True)"
   ]
  },
  {
   "cell_type": "code",
   "execution_count": 16,
   "metadata": {},
   "outputs": [],
   "source": [
    "# building column with all analyzable data\n",
    "df['all_content'] = df['title'] + \" \" + df['author'] + \" \" + df['publisher'] + \" \" + df['main topic'] + \" \" + df['subtopics']"
   ]
  },
  {
   "cell_type": "markdown",
   "metadata": {},
   "source": [
    "#### popularity score based on transaction data is added to the data"
   ]
  },
  {
   "cell_type": "code",
   "execution_count": 18,
   "metadata": {},
   "outputs": [],
   "source": [
    "df = df.merge(popularity, how = \"left\", on = \"itemID\")"
   ]
  },
  {
   "cell_type": "code",
   "execution_count": 19,
   "metadata": {},
   "outputs": [
    {
     "data": {
      "text/html": [
       "<div>\n",
       "<style scoped>\n",
       "    .dataframe tbody tr th:only-of-type {\n",
       "        vertical-align: middle;\n",
       "    }\n",
       "\n",
       "    .dataframe tbody tr th {\n",
       "        vertical-align: top;\n",
       "    }\n",
       "\n",
       "    .dataframe thead th {\n",
       "        text-align: right;\n",
       "    }\n",
       "</style>\n",
       "<table border=\"1\" class=\"dataframe\">\n",
       "  <thead>\n",
       "    <tr style=\"text-align: right;\">\n",
       "      <th></th>\n",
       "      <th>itemID</th>\n",
       "      <th>title</th>\n",
       "      <th>author</th>\n",
       "      <th>publisher</th>\n",
       "      <th>main topic</th>\n",
       "      <th>subtopics</th>\n",
       "      <th>all_content</th>\n",
       "      <th>pop</th>\n",
       "      <th>rank_main_topic</th>\n",
       "    </tr>\n",
       "  </thead>\n",
       "  <tbody>\n",
       "    <tr>\n",
       "      <th>0</th>\n",
       "      <td>21310</td>\n",
       "      <td>Princess Poppy: The Big Mix Up</td>\n",
       "      <td>Janey Louise Jones</td>\n",
       "      <td>Penguin Random House Children's UK</td>\n",
       "      <td>YFB</td>\n",
       "      <td>5AH</td>\n",
       "      <td>Princess Poppy: The Big Mix Up Janey Louise Jo...</td>\n",
       "      <td>3.0</td>\n",
       "      <td>595.0</td>\n",
       "    </tr>\n",
       "    <tr>\n",
       "      <th>1</th>\n",
       "      <td>73018</td>\n",
       "      <td>Einfach zeichnen! Step by Step</td>\n",
       "      <td>Wiebke Krabbe</td>\n",
       "      <td>Schwager und Steinlein</td>\n",
       "      <td>AGZ</td>\n",
       "      <td>5AJ,AGZ,WFA,YBG,YBL,YNA,YPA</td>\n",
       "      <td>Einfach zeichnen! Step by Step Wiebke Krabbe S...</td>\n",
       "      <td>100.0</td>\n",
       "      <td>1.0</td>\n",
       "    </tr>\n",
       "    <tr>\n",
       "      <th>2</th>\n",
       "      <td>19194</td>\n",
       "      <td>Red Queen 1</td>\n",
       "      <td>Victoria Aveyard</td>\n",
       "      <td>Orion Publishing Group</td>\n",
       "      <td>YFH</td>\n",
       "      <td>5AP,FBA</td>\n",
       "      <td>Red Queen 1 Victoria Aveyard Orion Publishing ...</td>\n",
       "      <td>268.0</td>\n",
       "      <td>32.0</td>\n",
       "    </tr>\n",
       "    <tr>\n",
       "      <th>3</th>\n",
       "      <td>40250</td>\n",
       "      <td>Meine Kindergarten-Freunde (Pirat)</td>\n",
       "      <td>no_author</td>\n",
       "      <td>Ars Edition GmbH</td>\n",
       "      <td>YB</td>\n",
       "      <td>5AC,5AD,YBG,YBL,YF</td>\n",
       "      <td>Meine Kindergarten-Freunde (Pirat) no_author A...</td>\n",
       "      <td>380.0</td>\n",
       "      <td>2.0</td>\n",
       "    </tr>\n",
       "    <tr>\n",
       "      <th>4</th>\n",
       "      <td>46107</td>\n",
       "      <td>Mein großes Schablonen-Buch - Wilde Tiere</td>\n",
       "      <td>Elizabeth Golding</td>\n",
       "      <td>Edition Michael Fischer</td>\n",
       "      <td>WFTM</td>\n",
       "      <td>WD,WFTM,YBG,YBL,YBLD,YBLN1</td>\n",
       "      <td>Mein großes Schablonen-Buch - Wilde Tiere Eliz...</td>\n",
       "      <td>61.0</td>\n",
       "      <td>22.0</td>\n",
       "    </tr>\n",
       "  </tbody>\n",
       "</table>\n",
       "</div>"
      ],
      "text/plain": [
       "   itemID                                      title              author  \\\n",
       "0   21310             Princess Poppy: The Big Mix Up  Janey Louise Jones   \n",
       "1   73018             Einfach zeichnen! Step by Step       Wiebke Krabbe   \n",
       "2   19194                                Red Queen 1    Victoria Aveyard   \n",
       "3   40250         Meine Kindergarten-Freunde (Pirat)           no_author   \n",
       "4   46107  Mein großes Schablonen-Buch - Wilde Tiere   Elizabeth Golding   \n",
       "\n",
       "                            publisher main topic                    subtopics  \\\n",
       "0  Penguin Random House Children's UK        YFB                          5AH   \n",
       "1              Schwager und Steinlein        AGZ  5AJ,AGZ,WFA,YBG,YBL,YNA,YPA   \n",
       "2              Orion Publishing Group        YFH                      5AP,FBA   \n",
       "3                    Ars Edition GmbH         YB           5AC,5AD,YBG,YBL,YF   \n",
       "4             Edition Michael Fischer       WFTM   WD,WFTM,YBG,YBL,YBLD,YBLN1   \n",
       "\n",
       "                                         all_content    pop  rank_main_topic  \n",
       "0  Princess Poppy: The Big Mix Up Janey Louise Jo...    3.0            595.0  \n",
       "1  Einfach zeichnen! Step by Step Wiebke Krabbe S...  100.0              1.0  \n",
       "2  Red Queen 1 Victoria Aveyard Orion Publishing ...  268.0             32.0  \n",
       "3  Meine Kindergarten-Freunde (Pirat) no_author A...  380.0              2.0  \n",
       "4  Mein großes Schablonen-Buch - Wilde Tiere Eliz...   61.0             22.0  "
      ]
     },
     "execution_count": 19,
     "metadata": {},
     "output_type": "execute_result"
    }
   ],
   "source": [
    "df.head()"
   ]
  },
  {
   "cell_type": "code",
   "execution_count": 20,
   "metadata": {},
   "outputs": [],
   "source": [
    "# saving preprocessed dataset\n",
    "df.to_csv(\"items_prepdone.csv\")"
   ]
  },
  {
   "cell_type": "markdown",
   "metadata": {},
   "source": [
    "### Making recommendations"
   ]
  },
  {
   "cell_type": "code",
   "execution_count": 22,
   "metadata": {},
   "outputs": [
    {
     "data": {
      "text/plain": [
       "(78334, 71421)"
      ]
     },
     "execution_count": 22,
     "metadata": {},
     "output_type": "execute_result"
    }
   ],
   "source": [
    "# Creating TF-IDF matrix and exploring its shape\n",
    "vectorizer = TfidfVectorizer(analyzer='word')\n",
    "tfidf_all_content = vectorizer.fit_transform(df['all_content'])\n",
    "tfidf_all_content.shape"
   ]
  },
  {
   "cell_type": "code",
   "execution_count": 27,
   "metadata": {},
   "outputs": [],
   "source": [
    "# function for making a recommendation\n",
    "def recommend(itemID, tfidf_matrix, reorder_top_5 = False):\n",
    "    item_index=df[df[\"itemID\"]==itemID].index[0]\n",
    "    \n",
    "    # computing cosine similarity matrix\n",
    "    cosine_similarity=linear_kernel(tfidf_matrix[item_index,:], tfidf_matrix)\n",
    "    \n",
    "    # processing the matrix\n",
    "    similarity_scores = cosine_similarity.tolist()[0]\n",
    "    ssdf = DataFrame(similarity_scores,columns=['score'])\n",
    "    ssdf=ssdf.sort_values(by='score', ascending=False)\n",
    "    ssdf = ssdf[1:6]\n",
    "    \n",
    "    # printing similarity scores\n",
    "    print(\"Similarity scores:\\n\", ssdf)\n",
    "    \n",
    "    # getting indices of top 5 recs\n",
    "    index_ssdf=ssdf.index.tolist() \n",
    "    \n",
    "    \n",
    "    if reorder_top_5:\n",
    "        # Reorder top 5 recommendations based on their popularity score before returning df\n",
    "        return df.iloc[index_ssdf].sort_values(by = \"pop\", ascending = False)\n",
    "    else:\n",
    "        # returning a dataframe with recommendations \n",
    "        return df.iloc[index_ssdf]"
   ]
  },
  {
   "cell_type": "code",
   "execution_count": 29,
   "metadata": {},
   "outputs": [
    {
     "name": "stdout",
     "output_type": "stream",
     "text": [
      "Similarity scores:\n",
      "           score\n",
      "18579  0.852327\n",
      "14627  0.818909\n",
      "18575  0.805497\n",
      "17896  0.739951\n",
      "5669   0.369355\n"
     ]
    },
    {
     "data": {
      "text/html": [
       "<div>\n",
       "<style scoped>\n",
       "    .dataframe tbody tr th:only-of-type {\n",
       "        vertical-align: middle;\n",
       "    }\n",
       "\n",
       "    .dataframe tbody tr th {\n",
       "        vertical-align: top;\n",
       "    }\n",
       "\n",
       "    .dataframe thead th {\n",
       "        text-align: right;\n",
       "    }\n",
       "</style>\n",
       "<table border=\"1\" class=\"dataframe\">\n",
       "  <thead>\n",
       "    <tr style=\"text-align: right;\">\n",
       "      <th></th>\n",
       "      <th>itemID</th>\n",
       "      <th>title</th>\n",
       "      <th>author</th>\n",
       "      <th>publisher</th>\n",
       "      <th>main topic</th>\n",
       "      <th>subtopics</th>\n",
       "      <th>all_content</th>\n",
       "      <th>pop</th>\n",
       "      <th>rank_main_topic</th>\n",
       "    </tr>\n",
       "  </thead>\n",
       "  <tbody>\n",
       "    <tr>\n",
       "      <th>18579</th>\n",
       "      <td>50651</td>\n",
       "      <td>Engelssturm 02 - Gabriel</td>\n",
       "      <td>Heather Killough-Walden</td>\n",
       "      <td>Heyne Taschenbuch</td>\n",
       "      <td>FMR</td>\n",
       "      <td>1KBB,FRX,FYT</td>\n",
       "      <td>Engelssturm 02 - Gabriel Heather Killough-Wald...</td>\n",
       "      <td>3.0</td>\n",
       "      <td>484.0</td>\n",
       "    </tr>\n",
       "    <tr>\n",
       "      <th>14627</th>\n",
       "      <td>39268</td>\n",
       "      <td>Engelssturm 01 - Uriel</td>\n",
       "      <td>Heather Killough-Walden</td>\n",
       "      <td>Heyne Taschenbuch</td>\n",
       "      <td>FMR</td>\n",
       "      <td>1KBB,FRX,FYT</td>\n",
       "      <td>Engelssturm 01 - Uriel Heather Killough-Walden...</td>\n",
       "      <td>7.0</td>\n",
       "      <td>384.0</td>\n",
       "    </tr>\n",
       "    <tr>\n",
       "      <th>18575</th>\n",
       "      <td>14215</td>\n",
       "      <td>Engelssturm - Azrael</td>\n",
       "      <td>Heather Killough-Walden</td>\n",
       "      <td>Heyne Verlag</td>\n",
       "      <td>FMR</td>\n",
       "      <td>1KBB,FRX,FYT</td>\n",
       "      <td>Engelssturm - Azrael Heather Killough-Walden H...</td>\n",
       "      <td>1.0</td>\n",
       "      <td>561.0</td>\n",
       "    </tr>\n",
       "    <tr>\n",
       "      <th>17896</th>\n",
       "      <td>28785</td>\n",
       "      <td>Engelssturm - Samael</td>\n",
       "      <td>Heather Killough-Walden</td>\n",
       "      <td>Heyne Taschenbuch</td>\n",
       "      <td>FMR</td>\n",
       "      <td>1KBB,3MRB</td>\n",
       "      <td>Engelssturm - Samael Heather Killough-Walden H...</td>\n",
       "      <td>3.0</td>\n",
       "      <td>484.0</td>\n",
       "    </tr>\n",
       "    <tr>\n",
       "      <th>5669</th>\n",
       "      <td>41460</td>\n",
       "      <td>Black Dagger 04. Bruderkrieg</td>\n",
       "      <td>J. R. Ward</td>\n",
       "      <td>Heyne Taschenbuch</td>\n",
       "      <td>FMR</td>\n",
       "      <td>1KBB-US-NAK,FB,FRX,FYT</td>\n",
       "      <td>Black Dagger 04. Bruderkrieg J. R. Ward Heyne ...</td>\n",
       "      <td>11.0</td>\n",
       "      <td>309.0</td>\n",
       "    </tr>\n",
       "  </tbody>\n",
       "</table>\n",
       "</div>"
      ],
      "text/plain": [
       "       itemID                         title                   author  \\\n",
       "18579   50651      Engelssturm 02 - Gabriel  Heather Killough-Walden   \n",
       "14627   39268        Engelssturm 01 - Uriel  Heather Killough-Walden   \n",
       "18575   14215          Engelssturm - Azrael  Heather Killough-Walden   \n",
       "17896   28785          Engelssturm - Samael  Heather Killough-Walden   \n",
       "5669    41460  Black Dagger 04. Bruderkrieg               J. R. Ward   \n",
       "\n",
       "               publisher main topic               subtopics  \\\n",
       "18579  Heyne Taschenbuch        FMR            1KBB,FRX,FYT   \n",
       "14627  Heyne Taschenbuch        FMR            1KBB,FRX,FYT   \n",
       "18575       Heyne Verlag        FMR            1KBB,FRX,FYT   \n",
       "17896  Heyne Taschenbuch        FMR               1KBB,3MRB   \n",
       "5669   Heyne Taschenbuch        FMR  1KBB-US-NAK,FB,FRX,FYT   \n",
       "\n",
       "                                             all_content   pop  \\\n",
       "18579  Engelssturm 02 - Gabriel Heather Killough-Wald...   3.0   \n",
       "14627  Engelssturm 01 - Uriel Heather Killough-Walden...   7.0   \n",
       "18575  Engelssturm - Azrael Heather Killough-Walden H...   1.0   \n",
       "17896  Engelssturm - Samael Heather Killough-Walden H...   3.0   \n",
       "5669   Black Dagger 04. Bruderkrieg J. R. Ward Heyne ...  11.0   \n",
       "\n",
       "       rank_main_topic  \n",
       "18579            484.0  \n",
       "14627            384.0  \n",
       "18575            561.0  \n",
       "17896            484.0  \n",
       "5669             309.0  "
      ]
     },
     "execution_count": 29,
     "metadata": {},
     "output_type": "execute_result"
    }
   ],
   "source": [
    "# running recs algorithm\n",
    "recommend(938, tfidf_all_content)"
   ]
  },
  {
   "cell_type": "code",
   "execution_count": null,
   "metadata": {},
   "outputs": [],
   "source": [
    "# the book, for which we made recs:\n",
    "df[df[\"itemID\"]==938]"
   ]
  },
  {
   "cell_type": "markdown",
   "metadata": {},
   "source": [
    "#### Example with reordering"
   ]
  },
  {
   "cell_type": "code",
   "execution_count": 37,
   "metadata": {},
   "outputs": [
    {
     "name": "stdout",
     "output_type": "stream",
     "text": [
      "Similarity scores:\n",
      "           score\n",
      "35404  0.794510\n",
      "6485   0.703675\n",
      "4131   0.691640\n",
      "28989  0.681556\n",
      "77946  0.674210\n"
     ]
    },
    {
     "data": {
      "text/html": [
       "<div>\n",
       "<style scoped>\n",
       "    .dataframe tbody tr th:only-of-type {\n",
       "        vertical-align: middle;\n",
       "    }\n",
       "\n",
       "    .dataframe tbody tr th {\n",
       "        vertical-align: top;\n",
       "    }\n",
       "\n",
       "    .dataframe thead th {\n",
       "        text-align: right;\n",
       "    }\n",
       "</style>\n",
       "<table border=\"1\" class=\"dataframe\">\n",
       "  <thead>\n",
       "    <tr style=\"text-align: right;\">\n",
       "      <th></th>\n",
       "      <th>itemID</th>\n",
       "      <th>title</th>\n",
       "      <th>author</th>\n",
       "      <th>publisher</th>\n",
       "      <th>main topic</th>\n",
       "      <th>subtopics</th>\n",
       "      <th>all_content</th>\n",
       "      <th>pop</th>\n",
       "      <th>rank_main_topic</th>\n",
       "    </tr>\n",
       "  </thead>\n",
       "  <tbody>\n",
       "    <tr>\n",
       "      <th>4131</th>\n",
       "      <td>27703</td>\n",
       "      <td>The Adventures of Tom Sawyer</td>\n",
       "      <td>Mark Twain</td>\n",
       "      <td>Penguin Random House Children's UK</td>\n",
       "      <td>YFA</td>\n",
       "      <td>5AK</td>\n",
       "      <td>The Adventures of Tom Sawyer Mark Twain Pengui...</td>\n",
       "      <td>48.0</td>\n",
       "      <td>21.0</td>\n",
       "    </tr>\n",
       "    <tr>\n",
       "      <th>6485</th>\n",
       "      <td>61994</td>\n",
       "      <td>Adventures of Huckleberry Finn</td>\n",
       "      <td>Mark Twain</td>\n",
       "      <td>Race Point Publishing</td>\n",
       "      <td>YFA</td>\n",
       "      <td>no_subtopics</td>\n",
       "      <td>Adventures of Huckleberry Finn Mark Twain Race...</td>\n",
       "      <td>4.0</td>\n",
       "      <td>145.0</td>\n",
       "    </tr>\n",
       "    <tr>\n",
       "      <th>35404</th>\n",
       "      <td>6098</td>\n",
       "      <td>The Adventures of Huckleberry Finn</td>\n",
       "      <td>Mark Twain</td>\n",
       "      <td>ALADDIN</td>\n",
       "      <td>YFA</td>\n",
       "      <td>YFC</td>\n",
       "      <td>The Adventures of Huckleberry Finn Mark Twain ...</td>\n",
       "      <td>NaN</td>\n",
       "      <td>NaN</td>\n",
       "    </tr>\n",
       "    <tr>\n",
       "      <th>28989</th>\n",
       "      <td>52671</td>\n",
       "      <td>The Adventures of Huckleberry Finn</td>\n",
       "      <td>Mark Twain</td>\n",
       "      <td>Vintage Publishing</td>\n",
       "      <td>FBC</td>\n",
       "      <td>no_subtopics</td>\n",
       "      <td>The Adventures of Huckleberry Finn Mark Twain ...</td>\n",
       "      <td>NaN</td>\n",
       "      <td>NaN</td>\n",
       "    </tr>\n",
       "    <tr>\n",
       "      <th>77946</th>\n",
       "      <td>73006</td>\n",
       "      <td>The Adventures of Huckleberry Finn</td>\n",
       "      <td>Mark Twain</td>\n",
       "      <td>VINTAGE</td>\n",
       "      <td>DCA</td>\n",
       "      <td>no_subtopics</td>\n",
       "      <td>The Adventures of Huckleberry Finn Mark Twain ...</td>\n",
       "      <td>NaN</td>\n",
       "      <td>NaN</td>\n",
       "    </tr>\n",
       "  </tbody>\n",
       "</table>\n",
       "</div>"
      ],
      "text/plain": [
       "       itemID                               title      author  \\\n",
       "4131    27703        The Adventures of Tom Sawyer  Mark Twain   \n",
       "6485    61994      Adventures of Huckleberry Finn  Mark Twain   \n",
       "35404    6098  The Adventures of Huckleberry Finn  Mark Twain   \n",
       "28989   52671  The Adventures of Huckleberry Finn  Mark Twain   \n",
       "77946   73006  The Adventures of Huckleberry Finn  Mark Twain   \n",
       "\n",
       "                                publisher main topic     subtopics  \\\n",
       "4131   Penguin Random House Children's UK        YFA           5AK   \n",
       "6485                Race Point Publishing        YFA  no_subtopics   \n",
       "35404                             ALADDIN        YFA           YFC   \n",
       "28989                  Vintage Publishing        FBC  no_subtopics   \n",
       "77946                             VINTAGE        DCA  no_subtopics   \n",
       "\n",
       "                                             all_content   pop  \\\n",
       "4131   The Adventures of Tom Sawyer Mark Twain Pengui...  48.0   \n",
       "6485   Adventures of Huckleberry Finn Mark Twain Race...   4.0   \n",
       "35404  The Adventures of Huckleberry Finn Mark Twain ...   NaN   \n",
       "28989  The Adventures of Huckleberry Finn Mark Twain ...   NaN   \n",
       "77946  The Adventures of Huckleberry Finn Mark Twain ...   NaN   \n",
       "\n",
       "       rank_main_topic  \n",
       "4131              21.0  \n",
       "6485             145.0  \n",
       "35404              NaN  \n",
       "28989              NaN  \n",
       "77946              NaN  "
      ]
     },
     "execution_count": 37,
     "metadata": {},
     "output_type": "execute_result"
    }
   ],
   "source": [
    "# running recs algorithm\n",
    "recommend(10, tfidf_all_content, reorder_top_5 = True)"
   ]
  },
  {
   "cell_type": "code",
   "execution_count": 35,
   "metadata": {},
   "outputs": [
    {
     "data": {
      "text/html": [
       "<div>\n",
       "<style scoped>\n",
       "    .dataframe tbody tr th:only-of-type {\n",
       "        vertical-align: middle;\n",
       "    }\n",
       "\n",
       "    .dataframe tbody tr th {\n",
       "        vertical-align: top;\n",
       "    }\n",
       "\n",
       "    .dataframe thead th {\n",
       "        text-align: right;\n",
       "    }\n",
       "</style>\n",
       "<table border=\"1\" class=\"dataframe\">\n",
       "  <thead>\n",
       "    <tr style=\"text-align: right;\">\n",
       "      <th></th>\n",
       "      <th>itemID</th>\n",
       "      <th>title</th>\n",
       "      <th>author</th>\n",
       "      <th>publisher</th>\n",
       "      <th>main topic</th>\n",
       "      <th>subtopics</th>\n",
       "      <th>all_content</th>\n",
       "      <th>pop</th>\n",
       "      <th>rank_main_topic</th>\n",
       "    </tr>\n",
       "  </thead>\n",
       "  <tbody>\n",
       "    <tr>\n",
       "      <th>14926</th>\n",
       "      <td>10</td>\n",
       "      <td>The Adventures of Huckleberry Finn</td>\n",
       "      <td>Mark Twain</td>\n",
       "      <td>Penguin Random House Children's UK</td>\n",
       "      <td>YFA</td>\n",
       "      <td>5AK</td>\n",
       "      <td>The Adventures of Huckleberry Finn Mark Twain ...</td>\n",
       "      <td>19.0</td>\n",
       "      <td>45.0</td>\n",
       "    </tr>\n",
       "  </tbody>\n",
       "</table>\n",
       "</div>"
      ],
      "text/plain": [
       "       itemID                               title      author  \\\n",
       "14926      10  The Adventures of Huckleberry Finn  Mark Twain   \n",
       "\n",
       "                                publisher main topic subtopics  \\\n",
       "14926  Penguin Random House Children's UK        YFA       5AK   \n",
       "\n",
       "                                             all_content   pop  \\\n",
       "14926  The Adventures of Huckleberry Finn Mark Twain ...  19.0   \n",
       "\n",
       "       rank_main_topic  \n",
       "14926             45.0  "
      ]
     },
     "execution_count": 35,
     "metadata": {},
     "output_type": "execute_result"
    }
   ],
   "source": [
    "# the book, for which we made recs:\n",
    "df[df[\"itemID\"]==10]"
   ]
  },
  {
   "cell_type": "code",
   "execution_count": null,
   "metadata": {},
   "outputs": [],
   "source": []
  }
 ],
 "metadata": {
  "kernelspec": {
   "display_name": "Python 3",
   "language": "python",
   "name": "python3"
  },
  "language_info": {
   "codemirror_mode": {
    "name": "ipython",
    "version": 3
   },
   "file_extension": ".py",
   "mimetype": "text/x-python",
   "name": "python",
   "nbconvert_exporter": "python",
   "pygments_lexer": "ipython3",
   "version": "3.8.5"
  }
 },
 "nbformat": 4,
 "nbformat_minor": 4
}
