{
  "nbformat": 4,
  "nbformat_minor": 0,
  "metadata": {
    "accelerator": "GPU",
    "colab": {
      "name": "content-based-descriptions",
      "provenance": [],
      "collapsed_sections": [],
      "toc_visible": true
    },
    "kernelspec": {
      "display_name": "Python 3",
      "name": "python3"
    },
    "language_info": {
      "name": "python"
    },
    "widgets": {
      "application/vnd.jupyter.widget-state+json": {
        "ead2fe95a5b94402932900c52f1ccf66": {
          "model_module": "@jupyter-widgets/controls",
          "model_name": "HBoxModel",
          "state": {
            "_dom_classes": [],
            "_model_module": "@jupyter-widgets/controls",
            "_model_module_version": "1.5.0",
            "_model_name": "HBoxModel",
            "_view_count": null,
            "_view_module": "@jupyter-widgets/controls",
            "_view_module_version": "1.5.0",
            "_view_name": "HBoxView",
            "box_style": "",
            "children": [
              "IPY_MODEL_7744d635a4304286955638b5dfbbb769",
              "IPY_MODEL_c4539910981c4729a9f20aeb1dbf188f"
            ],
            "layout": "IPY_MODEL_891780f6b2b848cca341001d7a01d6b7"
          }
        },
        "7744d635a4304286955638b5dfbbb769": {
          "model_module": "@jupyter-widgets/controls",
          "model_name": "FloatProgressModel",
          "state": {
            "_dom_classes": [],
            "_model_module": "@jupyter-widgets/controls",
            "_model_module_version": "1.5.0",
            "_model_name": "FloatProgressModel",
            "_view_count": null,
            "_view_module": "@jupyter-widgets/controls",
            "_view_module_version": "1.5.0",
            "_view_name": "ProgressView",
            "bar_style": "success",
            "description": "Downloading: 100%",
            "description_tooltip": null,
            "layout": "IPY_MODEL_0fa934fe1a2a4929a921c1b42ff0869e",
            "max": 5069051,
            "min": 0,
            "orientation": "horizontal",
            "style": "IPY_MODEL_1f89b7aa82464a28952a8ec635635cd9",
            "value": 5069051
          }
        },
        "c4539910981c4729a9f20aeb1dbf188f": {
          "model_module": "@jupyter-widgets/controls",
          "model_name": "HTMLModel",
          "state": {
            "_dom_classes": [],
            "_model_module": "@jupyter-widgets/controls",
            "_model_module_version": "1.5.0",
            "_model_name": "HTMLModel",
            "_view_count": null,
            "_view_module": "@jupyter-widgets/controls",
            "_view_module_version": "1.5.0",
            "_view_name": "HTMLView",
            "description": "",
            "description_tooltip": null,
            "layout": "IPY_MODEL_e248345d1859484cb412b49584941e8e",
            "placeholder": "​",
            "style": "IPY_MODEL_8b1d2973fbb542f5a8d2b73d264c7357",
            "value": " 5.07M/5.07M [00:00&lt;00:00, 8.71MB/s]"
          }
        },
        "891780f6b2b848cca341001d7a01d6b7": {
          "model_module": "@jupyter-widgets/base",
          "model_name": "LayoutModel",
          "state": {
            "_model_module": "@jupyter-widgets/base",
            "_model_module_version": "1.2.0",
            "_model_name": "LayoutModel",
            "_view_count": null,
            "_view_module": "@jupyter-widgets/base",
            "_view_module_version": "1.2.0",
            "_view_name": "LayoutView",
            "align_content": null,
            "align_items": null,
            "align_self": null,
            "border": null,
            "bottom": null,
            "display": null,
            "flex": null,
            "flex_flow": null,
            "grid_area": null,
            "grid_auto_columns": null,
            "grid_auto_flow": null,
            "grid_auto_rows": null,
            "grid_column": null,
            "grid_gap": null,
            "grid_row": null,
            "grid_template_areas": null,
            "grid_template_columns": null,
            "grid_template_rows": null,
            "height": null,
            "justify_content": null,
            "justify_items": null,
            "left": null,
            "margin": null,
            "max_height": null,
            "max_width": null,
            "min_height": null,
            "min_width": null,
            "object_fit": null,
            "object_position": null,
            "order": null,
            "overflow": null,
            "overflow_x": null,
            "overflow_y": null,
            "padding": null,
            "right": null,
            "top": null,
            "visibility": null,
            "width": null
          }
        },
        "0fa934fe1a2a4929a921c1b42ff0869e": {
          "model_module": "@jupyter-widgets/base",
          "model_name": "LayoutModel",
          "state": {
            "_model_module": "@jupyter-widgets/base",
            "_model_module_version": "1.2.0",
            "_model_name": "LayoutModel",
            "_view_count": null,
            "_view_module": "@jupyter-widgets/base",
            "_view_module_version": "1.2.0",
            "_view_name": "LayoutView",
            "align_content": null,
            "align_items": null,
            "align_self": null,
            "border": null,
            "bottom": null,
            "display": null,
            "flex": null,
            "flex_flow": null,
            "grid_area": null,
            "grid_auto_columns": null,
            "grid_auto_flow": null,
            "grid_auto_rows": null,
            "grid_column": null,
            "grid_gap": null,
            "grid_row": null,
            "grid_template_areas": null,
            "grid_template_columns": null,
            "grid_template_rows": null,
            "height": null,
            "justify_content": null,
            "justify_items": null,
            "left": null,
            "margin": null,
            "max_height": null,
            "max_width": null,
            "min_height": null,
            "min_width": null,
            "object_fit": null,
            "object_position": null,
            "order": null,
            "overflow": null,
            "overflow_x": null,
            "overflow_y": null,
            "padding": null,
            "right": null,
            "top": null,
            "visibility": null,
            "width": null
          }
        },
        "1f89b7aa82464a28952a8ec635635cd9": {
          "model_module": "@jupyter-widgets/controls",
          "model_name": "ProgressStyleModel",
          "state": {
            "_model_module": "@jupyter-widgets/controls",
            "_model_module_version": "1.5.0",
            "_model_name": "ProgressStyleModel",
            "_view_count": null,
            "_view_module": "@jupyter-widgets/base",
            "_view_module_version": "1.2.0",
            "_view_name": "StyleView",
            "bar_color": null,
            "description_width": "initial"
          }
        },
        "e248345d1859484cb412b49584941e8e": {
          "model_module": "@jupyter-widgets/base",
          "model_name": "LayoutModel",
          "state": {
            "_model_module": "@jupyter-widgets/base",
            "_model_module_version": "1.2.0",
            "_model_name": "LayoutModel",
            "_view_count": null,
            "_view_module": "@jupyter-widgets/base",
            "_view_module_version": "1.2.0",
            "_view_name": "LayoutView",
            "align_content": null,
            "align_items": null,
            "align_self": null,
            "border": null,
            "bottom": null,
            "display": null,
            "flex": null,
            "flex_flow": null,
            "grid_area": null,
            "grid_auto_columns": null,
            "grid_auto_flow": null,
            "grid_auto_rows": null,
            "grid_column": null,
            "grid_gap": null,
            "grid_row": null,
            "grid_template_areas": null,
            "grid_template_columns": null,
            "grid_template_rows": null,
            "height": null,
            "justify_content": null,
            "justify_items": null,
            "left": null,
            "margin": null,
            "max_height": null,
            "max_width": null,
            "min_height": null,
            "min_width": null,
            "object_fit": null,
            "object_position": null,
            "order": null,
            "overflow": null,
            "overflow_x": null,
            "overflow_y": null,
            "padding": null,
            "right": null,
            "top": null,
            "visibility": null,
            "width": null
          }
        },
        "8b1d2973fbb542f5a8d2b73d264c7357": {
          "model_module": "@jupyter-widgets/controls",
          "model_name": "DescriptionStyleModel",
          "state": {
            "_model_module": "@jupyter-widgets/controls",
            "_model_module_version": "1.5.0",
            "_model_name": "DescriptionStyleModel",
            "_view_count": null,
            "_view_module": "@jupyter-widgets/base",
            "_view_module_version": "1.2.0",
            "_view_name": "StyleView",
            "description_width": ""
          }
        },
        "2accea3c6cbf49f1b3c163b412bf02d6": {
          "model_module": "@jupyter-widgets/controls",
          "model_name": "HBoxModel",
          "state": {
            "_dom_classes": [],
            "_model_module": "@jupyter-widgets/controls",
            "_model_module_version": "1.5.0",
            "_model_name": "HBoxModel",
            "_view_count": null,
            "_view_module": "@jupyter-widgets/controls",
            "_view_module_version": "1.5.0",
            "_view_name": "HBoxView",
            "box_style": "",
            "children": [
              "IPY_MODEL_a18da4e727294505825acc8bfba48fb7",
              "IPY_MODEL_7e741e4150594211a56fe4f767e4e598"
            ],
            "layout": "IPY_MODEL_0ac56ad851be47a7858da3062d983f81"
          }
        },
        "a18da4e727294505825acc8bfba48fb7": {
          "model_module": "@jupyter-widgets/controls",
          "model_name": "FloatProgressModel",
          "state": {
            "_dom_classes": [],
            "_model_module": "@jupyter-widgets/controls",
            "_model_module_version": "1.5.0",
            "_model_name": "FloatProgressModel",
            "_view_count": null,
            "_view_module": "@jupyter-widgets/controls",
            "_view_module_version": "1.5.0",
            "_view_name": "ProgressView",
            "bar_style": "success",
            "description": "Downloading: 100%",
            "description_tooltip": null,
            "layout": "IPY_MODEL_2c78b1c959214c38b99a6d61a3ef63b5",
            "max": 9096718,
            "min": 0,
            "orientation": "horizontal",
            "style": "IPY_MODEL_1c49e40b59d54b5ba7bb28e4222b582b",
            "value": 9096718
          }
        },
        "7e741e4150594211a56fe4f767e4e598": {
          "model_module": "@jupyter-widgets/controls",
          "model_name": "HTMLModel",
          "state": {
            "_dom_classes": [],
            "_model_module": "@jupyter-widgets/controls",
            "_model_module_version": "1.5.0",
            "_model_name": "HTMLModel",
            "_view_count": null,
            "_view_module": "@jupyter-widgets/controls",
            "_view_module_version": "1.5.0",
            "_view_name": "HTMLView",
            "description": "",
            "description_tooltip": null,
            "layout": "IPY_MODEL_993d345cb74a4670bfcc855e3a949402",
            "placeholder": "​",
            "style": "IPY_MODEL_7534bf42116f4426b5aa550eef0033d8",
            "value": " 9.10M/9.10M [00:45&lt;00:00, 200kB/s]"
          }
        },
        "0ac56ad851be47a7858da3062d983f81": {
          "model_module": "@jupyter-widgets/base",
          "model_name": "LayoutModel",
          "state": {
            "_model_module": "@jupyter-widgets/base",
            "_model_module_version": "1.2.0",
            "_model_name": "LayoutModel",
            "_view_count": null,
            "_view_module": "@jupyter-widgets/base",
            "_view_module_version": "1.2.0",
            "_view_name": "LayoutView",
            "align_content": null,
            "align_items": null,
            "align_self": null,
            "border": null,
            "bottom": null,
            "display": null,
            "flex": null,
            "flex_flow": null,
            "grid_area": null,
            "grid_auto_columns": null,
            "grid_auto_flow": null,
            "grid_auto_rows": null,
            "grid_column": null,
            "grid_gap": null,
            "grid_row": null,
            "grid_template_areas": null,
            "grid_template_columns": null,
            "grid_template_rows": null,
            "height": null,
            "justify_content": null,
            "justify_items": null,
            "left": null,
            "margin": null,
            "max_height": null,
            "max_width": null,
            "min_height": null,
            "min_width": null,
            "object_fit": null,
            "object_position": null,
            "order": null,
            "overflow": null,
            "overflow_x": null,
            "overflow_y": null,
            "padding": null,
            "right": null,
            "top": null,
            "visibility": null,
            "width": null
          }
        },
        "2c78b1c959214c38b99a6d61a3ef63b5": {
          "model_module": "@jupyter-widgets/base",
          "model_name": "LayoutModel",
          "state": {
            "_model_module": "@jupyter-widgets/base",
            "_model_module_version": "1.2.0",
            "_model_name": "LayoutModel",
            "_view_count": null,
            "_view_module": "@jupyter-widgets/base",
            "_view_module_version": "1.2.0",
            "_view_name": "LayoutView",
            "align_content": null,
            "align_items": null,
            "align_self": null,
            "border": null,
            "bottom": null,
            "display": null,
            "flex": null,
            "flex_flow": null,
            "grid_area": null,
            "grid_auto_columns": null,
            "grid_auto_flow": null,
            "grid_auto_rows": null,
            "grid_column": null,
            "grid_gap": null,
            "grid_row": null,
            "grid_template_areas": null,
            "grid_template_columns": null,
            "grid_template_rows": null,
            "height": null,
            "justify_content": null,
            "justify_items": null,
            "left": null,
            "margin": null,
            "max_height": null,
            "max_width": null,
            "min_height": null,
            "min_width": null,
            "object_fit": null,
            "object_position": null,
            "order": null,
            "overflow": null,
            "overflow_x": null,
            "overflow_y": null,
            "padding": null,
            "right": null,
            "top": null,
            "visibility": null,
            "width": null
          }
        },
        "1c49e40b59d54b5ba7bb28e4222b582b": {
          "model_module": "@jupyter-widgets/controls",
          "model_name": "ProgressStyleModel",
          "state": {
            "_model_module": "@jupyter-widgets/controls",
            "_model_module_version": "1.5.0",
            "_model_name": "ProgressStyleModel",
            "_view_count": null,
            "_view_module": "@jupyter-widgets/base",
            "_view_module_version": "1.2.0",
            "_view_name": "StyleView",
            "bar_color": null,
            "description_width": "initial"
          }
        },
        "993d345cb74a4670bfcc855e3a949402": {
          "model_module": "@jupyter-widgets/base",
          "model_name": "LayoutModel",
          "state": {
            "_model_module": "@jupyter-widgets/base",
            "_model_module_version": "1.2.0",
            "_model_name": "LayoutModel",
            "_view_count": null,
            "_view_module": "@jupyter-widgets/base",
            "_view_module_version": "1.2.0",
            "_view_name": "LayoutView",
            "align_content": null,
            "align_items": null,
            "align_self": null,
            "border": null,
            "bottom": null,
            "display": null,
            "flex": null,
            "flex_flow": null,
            "grid_area": null,
            "grid_auto_columns": null,
            "grid_auto_flow": null,
            "grid_auto_rows": null,
            "grid_column": null,
            "grid_gap": null,
            "grid_row": null,
            "grid_template_areas": null,
            "grid_template_columns": null,
            "grid_template_rows": null,
            "height": null,
            "justify_content": null,
            "justify_items": null,
            "left": null,
            "margin": null,
            "max_height": null,
            "max_width": null,
            "min_height": null,
            "min_width": null,
            "object_fit": null,
            "object_position": null,
            "order": null,
            "overflow": null,
            "overflow_x": null,
            "overflow_y": null,
            "padding": null,
            "right": null,
            "top": null,
            "visibility": null,
            "width": null
          }
        },
        "7534bf42116f4426b5aa550eef0033d8": {
          "model_module": "@jupyter-widgets/controls",
          "model_name": "DescriptionStyleModel",
          "state": {
            "_model_module": "@jupyter-widgets/controls",
            "_model_module_version": "1.5.0",
            "_model_name": "DescriptionStyleModel",
            "_view_count": null,
            "_view_module": "@jupyter-widgets/base",
            "_view_module_version": "1.2.0",
            "_view_name": "StyleView",
            "description_width": ""
          }
        },
        "bbcd3ce395694224aaa0e2d93d429092": {
          "model_module": "@jupyter-widgets/controls",
          "model_name": "HBoxModel",
          "state": {
            "_dom_classes": [],
            "_model_module": "@jupyter-widgets/controls",
            "_model_module_version": "1.5.0",
            "_model_name": "HBoxModel",
            "_view_count": null,
            "_view_module": "@jupyter-widgets/controls",
            "_view_module_version": "1.5.0",
            "_view_name": "HBoxView",
            "box_style": "",
            "children": [
              "IPY_MODEL_4f731516275f4c2da2d24d9e6fdec1cf",
              "IPY_MODEL_63e998f627f846a2921c16efbfdfd347"
            ],
            "layout": "IPY_MODEL_a5516622f81e4be3949e935a8166445b"
          }
        },
        "4f731516275f4c2da2d24d9e6fdec1cf": {
          "model_module": "@jupyter-widgets/controls",
          "model_name": "FloatProgressModel",
          "state": {
            "_dom_classes": [],
            "_model_module": "@jupyter-widgets/controls",
            "_model_module_version": "1.5.0",
            "_model_name": "FloatProgressModel",
            "_view_count": null,
            "_view_module": "@jupyter-widgets/controls",
            "_view_module_version": "1.5.0",
            "_view_name": "ProgressView",
            "bar_style": "success",
            "description": "Downloading: 100%",
            "description_tooltip": null,
            "layout": "IPY_MODEL_d0246d3aba4c4046ac0605d5045e3ce2",
            "max": 512,
            "min": 0,
            "orientation": "horizontal",
            "style": "IPY_MODEL_5285440967234c0497e46dc1b46492fe",
            "value": 512
          }
        },
        "63e998f627f846a2921c16efbfdfd347": {
          "model_module": "@jupyter-widgets/controls",
          "model_name": "HTMLModel",
          "state": {
            "_dom_classes": [],
            "_model_module": "@jupyter-widgets/controls",
            "_model_module_version": "1.5.0",
            "_model_name": "HTMLModel",
            "_view_count": null,
            "_view_module": "@jupyter-widgets/controls",
            "_view_module_version": "1.5.0",
            "_view_name": "HTMLView",
            "description": "",
            "description_tooltip": null,
            "layout": "IPY_MODEL_7f084caa1e214f3a8b2f2c664b6df3bd",
            "placeholder": "​",
            "style": "IPY_MODEL_388ad73564f546a3a9fe347c50bb657b",
            "value": " 512/512 [00:26&lt;00:00, 19.4B/s]"
          }
        },
        "a5516622f81e4be3949e935a8166445b": {
          "model_module": "@jupyter-widgets/base",
          "model_name": "LayoutModel",
          "state": {
            "_model_module": "@jupyter-widgets/base",
            "_model_module_version": "1.2.0",
            "_model_name": "LayoutModel",
            "_view_count": null,
            "_view_module": "@jupyter-widgets/base",
            "_view_module_version": "1.2.0",
            "_view_name": "LayoutView",
            "align_content": null,
            "align_items": null,
            "align_self": null,
            "border": null,
            "bottom": null,
            "display": null,
            "flex": null,
            "flex_flow": null,
            "grid_area": null,
            "grid_auto_columns": null,
            "grid_auto_flow": null,
            "grid_auto_rows": null,
            "grid_column": null,
            "grid_gap": null,
            "grid_row": null,
            "grid_template_areas": null,
            "grid_template_columns": null,
            "grid_template_rows": null,
            "height": null,
            "justify_content": null,
            "justify_items": null,
            "left": null,
            "margin": null,
            "max_height": null,
            "max_width": null,
            "min_height": null,
            "min_width": null,
            "object_fit": null,
            "object_position": null,
            "order": null,
            "overflow": null,
            "overflow_x": null,
            "overflow_y": null,
            "padding": null,
            "right": null,
            "top": null,
            "visibility": null,
            "width": null
          }
        },
        "d0246d3aba4c4046ac0605d5045e3ce2": {
          "model_module": "@jupyter-widgets/base",
          "model_name": "LayoutModel",
          "state": {
            "_model_module": "@jupyter-widgets/base",
            "_model_module_version": "1.2.0",
            "_model_name": "LayoutModel",
            "_view_count": null,
            "_view_module": "@jupyter-widgets/base",
            "_view_module_version": "1.2.0",
            "_view_name": "LayoutView",
            "align_content": null,
            "align_items": null,
            "align_self": null,
            "border": null,
            "bottom": null,
            "display": null,
            "flex": null,
            "flex_flow": null,
            "grid_area": null,
            "grid_auto_columns": null,
            "grid_auto_flow": null,
            "grid_auto_rows": null,
            "grid_column": null,
            "grid_gap": null,
            "grid_row": null,
            "grid_template_areas": null,
            "grid_template_columns": null,
            "grid_template_rows": null,
            "height": null,
            "justify_content": null,
            "justify_items": null,
            "left": null,
            "margin": null,
            "max_height": null,
            "max_width": null,
            "min_height": null,
            "min_width": null,
            "object_fit": null,
            "object_position": null,
            "order": null,
            "overflow": null,
            "overflow_x": null,
            "overflow_y": null,
            "padding": null,
            "right": null,
            "top": null,
            "visibility": null,
            "width": null
          }
        },
        "5285440967234c0497e46dc1b46492fe": {
          "model_module": "@jupyter-widgets/controls",
          "model_name": "ProgressStyleModel",
          "state": {
            "_model_module": "@jupyter-widgets/controls",
            "_model_module_version": "1.5.0",
            "_model_name": "ProgressStyleModel",
            "_view_count": null,
            "_view_module": "@jupyter-widgets/base",
            "_view_module_version": "1.2.0",
            "_view_name": "StyleView",
            "bar_color": null,
            "description_width": "initial"
          }
        },
        "7f084caa1e214f3a8b2f2c664b6df3bd": {
          "model_module": "@jupyter-widgets/base",
          "model_name": "LayoutModel",
          "state": {
            "_model_module": "@jupyter-widgets/base",
            "_model_module_version": "1.2.0",
            "_model_name": "LayoutModel",
            "_view_count": null,
            "_view_module": "@jupyter-widgets/base",
            "_view_module_version": "1.2.0",
            "_view_name": "LayoutView",
            "align_content": null,
            "align_items": null,
            "align_self": null,
            "border": null,
            "bottom": null,
            "display": null,
            "flex": null,
            "flex_flow": null,
            "grid_area": null,
            "grid_auto_columns": null,
            "grid_auto_flow": null,
            "grid_auto_rows": null,
            "grid_column": null,
            "grid_gap": null,
            "grid_row": null,
            "grid_template_areas": null,
            "grid_template_columns": null,
            "grid_template_rows": null,
            "height": null,
            "justify_content": null,
            "justify_items": null,
            "left": null,
            "margin": null,
            "max_height": null,
            "max_width": null,
            "min_height": null,
            "min_width": null,
            "object_fit": null,
            "object_position": null,
            "order": null,
            "overflow": null,
            "overflow_x": null,
            "overflow_y": null,
            "padding": null,
            "right": null,
            "top": null,
            "visibility": null,
            "width": null
          }
        },
        "388ad73564f546a3a9fe347c50bb657b": {
          "model_module": "@jupyter-widgets/controls",
          "model_name": "DescriptionStyleModel",
          "state": {
            "_model_module": "@jupyter-widgets/controls",
            "_model_module_version": "1.5.0",
            "_model_name": "DescriptionStyleModel",
            "_view_count": null,
            "_view_module": "@jupyter-widgets/base",
            "_view_module_version": "1.2.0",
            "_view_name": "StyleView",
            "description_width": ""
          }
        },
        "b18e2743980d4d84bcf3622dad267a44": {
          "model_module": "@jupyter-widgets/controls",
          "model_name": "HBoxModel",
          "state": {
            "_dom_classes": [],
            "_model_module": "@jupyter-widgets/controls",
            "_model_module_version": "1.5.0",
            "_model_name": "HBoxModel",
            "_view_count": null,
            "_view_module": "@jupyter-widgets/controls",
            "_view_module_version": "1.5.0",
            "_view_name": "HBoxView",
            "box_style": "",
            "children": [
              "IPY_MODEL_7449dcdafbb14a9c94ff3b00004422f0",
              "IPY_MODEL_b0db56c3acfd4889832f8096a11334f3"
            ],
            "layout": "IPY_MODEL_559040a22f4148e18a5f671657c5b29e"
          }
        },
        "7449dcdafbb14a9c94ff3b00004422f0": {
          "model_module": "@jupyter-widgets/controls",
          "model_name": "FloatProgressModel",
          "state": {
            "_dom_classes": [],
            "_model_module": "@jupyter-widgets/controls",
            "_model_module_version": "1.5.0",
            "_model_name": "FloatProgressModel",
            "_view_count": null,
            "_view_module": "@jupyter-widgets/controls",
            "_view_module_version": "1.5.0",
            "_view_name": "ProgressView",
            "bar_style": "success",
            "description": "Downloading: 100%",
            "description_tooltip": null,
            "layout": "IPY_MODEL_0b5670f67b6b42beaf098feafd2f21b1",
            "max": 1115590446,
            "min": 0,
            "orientation": "horizontal",
            "style": "IPY_MODEL_99c84123b77e479880d05a6b65160193",
            "value": 1115590446
          }
        },
        "b0db56c3acfd4889832f8096a11334f3": {
          "model_module": "@jupyter-widgets/controls",
          "model_name": "HTMLModel",
          "state": {
            "_dom_classes": [],
            "_model_module": "@jupyter-widgets/controls",
            "_model_module_version": "1.5.0",
            "_model_name": "HTMLModel",
            "_view_count": null,
            "_view_module": "@jupyter-widgets/controls",
            "_view_module_version": "1.5.0",
            "_view_name": "HTMLView",
            "description": "",
            "description_tooltip": null,
            "layout": "IPY_MODEL_90028810bbfd471e8f77620625c8dc58",
            "placeholder": "​",
            "style": "IPY_MODEL_a43114e612dd4007bdf29aa3ca8056bb",
            "value": " 1.12G/1.12G [00:23&lt;00:00, 47.2MB/s]"
          }
        },
        "559040a22f4148e18a5f671657c5b29e": {
          "model_module": "@jupyter-widgets/base",
          "model_name": "LayoutModel",
          "state": {
            "_model_module": "@jupyter-widgets/base",
            "_model_module_version": "1.2.0",
            "_model_name": "LayoutModel",
            "_view_count": null,
            "_view_module": "@jupyter-widgets/base",
            "_view_module_version": "1.2.0",
            "_view_name": "LayoutView",
            "align_content": null,
            "align_items": null,
            "align_self": null,
            "border": null,
            "bottom": null,
            "display": null,
            "flex": null,
            "flex_flow": null,
            "grid_area": null,
            "grid_auto_columns": null,
            "grid_auto_flow": null,
            "grid_auto_rows": null,
            "grid_column": null,
            "grid_gap": null,
            "grid_row": null,
            "grid_template_areas": null,
            "grid_template_columns": null,
            "grid_template_rows": null,
            "height": null,
            "justify_content": null,
            "justify_items": null,
            "left": null,
            "margin": null,
            "max_height": null,
            "max_width": null,
            "min_height": null,
            "min_width": null,
            "object_fit": null,
            "object_position": null,
            "order": null,
            "overflow": null,
            "overflow_x": null,
            "overflow_y": null,
            "padding": null,
            "right": null,
            "top": null,
            "visibility": null,
            "width": null
          }
        },
        "0b5670f67b6b42beaf098feafd2f21b1": {
          "model_module": "@jupyter-widgets/base",
          "model_name": "LayoutModel",
          "state": {
            "_model_module": "@jupyter-widgets/base",
            "_model_module_version": "1.2.0",
            "_model_name": "LayoutModel",
            "_view_count": null,
            "_view_module": "@jupyter-widgets/base",
            "_view_module_version": "1.2.0",
            "_view_name": "LayoutView",
            "align_content": null,
            "align_items": null,
            "align_self": null,
            "border": null,
            "bottom": null,
            "display": null,
            "flex": null,
            "flex_flow": null,
            "grid_area": null,
            "grid_auto_columns": null,
            "grid_auto_flow": null,
            "grid_auto_rows": null,
            "grid_column": null,
            "grid_gap": null,
            "grid_row": null,
            "grid_template_areas": null,
            "grid_template_columns": null,
            "grid_template_rows": null,
            "height": null,
            "justify_content": null,
            "justify_items": null,
            "left": null,
            "margin": null,
            "max_height": null,
            "max_width": null,
            "min_height": null,
            "min_width": null,
            "object_fit": null,
            "object_position": null,
            "order": null,
            "overflow": null,
            "overflow_x": null,
            "overflow_y": null,
            "padding": null,
            "right": null,
            "top": null,
            "visibility": null,
            "width": null
          }
        },
        "99c84123b77e479880d05a6b65160193": {
          "model_module": "@jupyter-widgets/controls",
          "model_name": "ProgressStyleModel",
          "state": {
            "_model_module": "@jupyter-widgets/controls",
            "_model_module_version": "1.5.0",
            "_model_name": "ProgressStyleModel",
            "_view_count": null,
            "_view_module": "@jupyter-widgets/base",
            "_view_module_version": "1.2.0",
            "_view_name": "StyleView",
            "bar_color": null,
            "description_width": "initial"
          }
        },
        "90028810bbfd471e8f77620625c8dc58": {
          "model_module": "@jupyter-widgets/base",
          "model_name": "LayoutModel",
          "state": {
            "_model_module": "@jupyter-widgets/base",
            "_model_module_version": "1.2.0",
            "_model_name": "LayoutModel",
            "_view_count": null,
            "_view_module": "@jupyter-widgets/base",
            "_view_module_version": "1.2.0",
            "_view_name": "LayoutView",
            "align_content": null,
            "align_items": null,
            "align_self": null,
            "border": null,
            "bottom": null,
            "display": null,
            "flex": null,
            "flex_flow": null,
            "grid_area": null,
            "grid_auto_columns": null,
            "grid_auto_flow": null,
            "grid_auto_rows": null,
            "grid_column": null,
            "grid_gap": null,
            "grid_row": null,
            "grid_template_areas": null,
            "grid_template_columns": null,
            "grid_template_rows": null,
            "height": null,
            "justify_content": null,
            "justify_items": null,
            "left": null,
            "margin": null,
            "max_height": null,
            "max_width": null,
            "min_height": null,
            "min_width": null,
            "object_fit": null,
            "object_position": null,
            "order": null,
            "overflow": null,
            "overflow_x": null,
            "overflow_y": null,
            "padding": null,
            "right": null,
            "top": null,
            "visibility": null,
            "width": null
          }
        },
        "a43114e612dd4007bdf29aa3ca8056bb": {
          "model_module": "@jupyter-widgets/controls",
          "model_name": "DescriptionStyleModel",
          "state": {
            "_model_module": "@jupyter-widgets/controls",
            "_model_module_version": "1.5.0",
            "_model_name": "DescriptionStyleModel",
            "_view_count": null,
            "_view_module": "@jupyter-widgets/base",
            "_view_module_version": "1.2.0",
            "_view_name": "StyleView",
            "description_width": ""
          }
        }
      }
    }
  },
  "cells": [
    {
      "cell_type": "markdown",
      "metadata": {
        "id": "oEh1T6A64GOy"
      },
      "source": [
        "# Content Based Recommendation using the Descriptions"
      ]
    },
    {
      "cell_type": "markdown",
      "metadata": {
        "id": "fJsYyhMy4c49"
      },
      "source": [
        "## Imports"
      ]
    },
    {
      "cell_type": "code",
      "metadata": {
        "id": "bh0QGZ6r3_Y0",
        "colab": {
          "base_uri": "https://localhost:8080/"
        },
        "outputId": "e936f8ee-d5af-4391-9c8e-707c7d3da9a6"
      },
      "source": [
        "!pip install transformers\n",
        "!pip3 install pickle5"
      ],
      "execution_count": null,
      "outputs": [
        {
          "output_type": "stream",
          "text": [
            "Requirement already satisfied: transformers in /usr/local/lib/python3.7/dist-packages (4.6.1)\n",
            "Requirement already satisfied: tqdm>=4.27 in /usr/local/lib/python3.7/dist-packages (from transformers) (4.41.1)\n",
            "Requirement already satisfied: importlib-metadata; python_version < \"3.8\" in /usr/local/lib/python3.7/dist-packages (from transformers) (4.0.1)\n",
            "Requirement already satisfied: regex!=2019.12.17 in /usr/local/lib/python3.7/dist-packages (from transformers) (2019.12.20)\n",
            "Requirement already satisfied: huggingface-hub==0.0.8 in /usr/local/lib/python3.7/dist-packages (from transformers) (0.0.8)\n",
            "Requirement already satisfied: requests in /usr/local/lib/python3.7/dist-packages (from transformers) (2.23.0)\n",
            "Requirement already satisfied: sacremoses in /usr/local/lib/python3.7/dist-packages (from transformers) (0.0.45)\n",
            "Requirement already satisfied: filelock in /usr/local/lib/python3.7/dist-packages (from transformers) (3.0.12)\n",
            "Requirement already satisfied: packaging in /usr/local/lib/python3.7/dist-packages (from transformers) (20.9)\n",
            "Requirement already satisfied: numpy>=1.17 in /usr/local/lib/python3.7/dist-packages (from transformers) (1.19.5)\n",
            "Requirement already satisfied: tokenizers<0.11,>=0.10.1 in /usr/local/lib/python3.7/dist-packages (from transformers) (0.10.3)\n",
            "Requirement already satisfied: typing-extensions>=3.6.4; python_version < \"3.8\" in /usr/local/lib/python3.7/dist-packages (from importlib-metadata; python_version < \"3.8\"->transformers) (3.7.4.3)\n",
            "Requirement already satisfied: zipp>=0.5 in /usr/local/lib/python3.7/dist-packages (from importlib-metadata; python_version < \"3.8\"->transformers) (3.4.1)\n",
            "Requirement already satisfied: chardet<4,>=3.0.2 in /usr/local/lib/python3.7/dist-packages (from requests->transformers) (3.0.4)\n",
            "Requirement already satisfied: idna<3,>=2.5 in /usr/local/lib/python3.7/dist-packages (from requests->transformers) (2.10)\n",
            "Requirement already satisfied: urllib3!=1.25.0,!=1.25.1,<1.26,>=1.21.1 in /usr/local/lib/python3.7/dist-packages (from requests->transformers) (1.24.3)\n",
            "Requirement already satisfied: certifi>=2017.4.17 in /usr/local/lib/python3.7/dist-packages (from requests->transformers) (2020.12.5)\n",
            "Requirement already satisfied: six in /usr/local/lib/python3.7/dist-packages (from sacremoses->transformers) (1.15.0)\n",
            "Requirement already satisfied: joblib in /usr/local/lib/python3.7/dist-packages (from sacremoses->transformers) (1.0.1)\n",
            "Requirement already satisfied: click in /usr/local/lib/python3.7/dist-packages (from sacremoses->transformers) (7.1.2)\n",
            "Requirement already satisfied: pyparsing>=2.0.2 in /usr/local/lib/python3.7/dist-packages (from packaging->transformers) (2.4.7)\n",
            "Requirement already satisfied: pickle5 in /usr/local/lib/python3.7/dist-packages (0.0.11)\n"
          ],
          "name": "stdout"
        }
      ]
    },
    {
      "cell_type": "code",
      "metadata": {
        "id": "QYyln4zi4POT"
      },
      "source": [
        "from google.colab import drive\n",
        "import pickle5 as pickle\n",
        "from transformers import BertModel, BertTokenizerFast, DistilBertModel, DistilBertTokenizerFast, \\\n",
        "XLMRobertaModel, XLMRobertaTokenizerFast, Trainer, TrainingArguments\n",
        "import torch\n",
        "import multiprocessing as mp\n",
        "import numpy as np\n",
        "import pandas as pd\n",
        "import datetime\n",
        "import gc\n",
        "from os import listdir\n",
        "from os.path import join\n",
        "from sklearn.metrics.pairwise import cosine_similarity\n",
        "from sklearn.preprocessing import MinMaxScaler"
      ],
      "execution_count": null,
      "outputs": []
    },
    {
      "cell_type": "code",
      "metadata": {
        "id": "lA4t4obAgMlW"
      },
      "source": [
        "def save_as_pickle(obj, filename):\n",
        "    with open(filename, 'wb') as file:\n",
        "        pickle.dump(obj, file, protocol=pickle.HIGHEST_PROTOCOL)\n",
        "\n",
        "def load_pickle(filename):\n",
        "    with open(filename, 'rb') as file:\n",
        "        return pickle.load(file)"
      ],
      "execution_count": null,
      "outputs": []
    },
    {
      "cell_type": "code",
      "metadata": {
        "colab": {
          "base_uri": "https://localhost:8080/"
        },
        "id": "Lnc3WKN-4oHd",
        "outputId": "4fe4dd47-ff08-4775-d64b-acac5802d994"
      },
      "source": [
        "drive.mount('/content/drive', force_remount=True)  # use force_remount=True param after upload of new data\n",
        "\n",
        "# file and folder names\n",
        "project_drive_folder = \"Master/2 - FSS 2021/Data Mining II/Data Mining Cup\" \n",
        "full_project_drive_folder = \"/content/drive/My Drive/{}/Data/\".format(project_drive_folder)\n",
        "\n",
        "# general\n",
        "items_path = full_project_drive_folder + 'DMC-2021-Task/items.csv'\n",
        "evaluation_path = full_project_drive_folder + 'DMC-2021-Task/evaluation.csv'\n",
        "google_crawl_path = full_project_drive_folder + 'CrawledData/GoogleBooksAPI/DM2_CompleteExport_withImages.csv'\n",
        "# google_crawl_path = '/content/drive/My Drive/Master/2 - FSS 2021/Information Retrieval/IR Projekt/saved_models/neural_retrieval/GBooks_JSON_to_CSV.csv'\n",
        "\n",
        "# summaries\n",
        "encodings_path = full_project_drive_folder + 'descriptions/xlm_encodings.pkl'\n",
        "embeddings_folder = full_project_drive_folder + 'descriptions/embeddings/'\n",
        "embeddings_path = full_project_drive_folder + 'descriptions/xlm_embeddings.pkl'\n",
        "\n",
        "# Amazon Data\n",
        "amazon_test_path = full_project_drive_folder + 'Amazon/dmc21_amazon_test.csv'\n",
        "amazon_val_path = full_project_drive_folder + 'Amazon/dmc21_amazon_validation.csv'\n",
        "internal_amazon_path = full_project_drive_folder + 'Amazon/dictionnary_validation_data.pkl'"
      ],
      "execution_count": null,
      "outputs": [
        {
          "output_type": "stream",
          "text": [
            "Mounted at /content/drive\n"
          ],
          "name": "stdout"
        }
      ]
    },
    {
      "cell_type": "markdown",
      "metadata": {
        "id": "dZAGhpnO7XhB"
      },
      "source": [
        "## items.csv and Google Data"
      ]
    },
    {
      "cell_type": "markdown",
      "metadata": {
        "id": "ZvuC3-GhAc0f"
      },
      "source": [
        "### Load & Merge"
      ]
    },
    {
      "cell_type": "code",
      "metadata": {
        "id": "lRgF7cOV6gZz"
      },
      "source": [
        "items = pd.read_csv(items_path, sep='|')\n",
        "google_data = pd.read_csv(google_crawl_path, sep='\\t')\n",
        "evaluation_items = pd.read_csv(evaluation_path)"
      ],
      "execution_count": null,
      "outputs": []
    },
    {
      "cell_type": "code",
      "metadata": {
        "colab": {
          "base_uri": "https://localhost:8080/"
        },
        "id": "Ng8zyZHofWH3",
        "outputId": "f8445a2e-33dc-45de-bc4f-ad14b7227be4"
      },
      "source": [
        "items.info()\n",
        "google_data.info()\n",
        "evaluation_items.info()"
      ],
      "execution_count": null,
      "outputs": [
        {
          "output_type": "stream",
          "text": [
            "<class 'pandas.core.frame.DataFrame'>\n",
            "RangeIndex: 78030 entries, 0 to 78029\n",
            "Data columns (total 6 columns):\n",
            " #   Column      Non-Null Count  Dtype \n",
            "---  ------      --------------  ----- \n",
            " 0   itemID      78030 non-null  int64 \n",
            " 1   title       78030 non-null  object\n",
            " 2   author      74790 non-null  object\n",
            " 3   publisher   78021 non-null  object\n",
            " 4   main topic  77772 non-null  object\n",
            " 5   subtopics   78029 non-null  object\n",
            "dtypes: int64(1), object(5)\n",
            "memory usage: 3.6+ MB\n",
            "<class 'pandas.core.frame.DataFrame'>\n",
            "RangeIndex: 78334 entries, 0 to 78333\n",
            "Data columns (total 13 columns):\n",
            " #   Column          Non-Null Count  Dtype \n",
            "---  ------          --------------  ----- \n",
            " 0   itemID          78334 non-null  int64 \n",
            " 1   title           78334 non-null  object\n",
            " 2   author          75087 non-null  object\n",
            " 3   publisher       78325 non-null  object\n",
            " 4   main topic      78075 non-null  object\n",
            " 5   subtopics       78334 non-null  object\n",
            " 6   title_gbooks    72217 non-null  object\n",
            " 7   authors_gbooks  72217 non-null  object\n",
            " 8   language        72217 non-null  object\n",
            " 9   description     72216 non-null  object\n",
            " 10  previewLink     72217 non-null  object\n",
            " 11  smallThumbnail  72217 non-null  object\n",
            " 12  bigThumbnail    72217 non-null  object\n",
            "dtypes: int64(1), object(12)\n",
            "memory usage: 7.8+ MB\n",
            "<class 'pandas.core.frame.DataFrame'>\n",
            "RangeIndex: 1000 entries, 0 to 999\n",
            "Data columns (total 1 columns):\n",
            " #   Column  Non-Null Count  Dtype\n",
            "---  ------  --------------  -----\n",
            " 0   itemID  1000 non-null   int64\n",
            "dtypes: int64(1)\n",
            "memory usage: 7.9 KB\n"
          ],
          "name": "stdout"
        }
      ]
    },
    {
      "cell_type": "code",
      "metadata": {
        "colab": {
          "base_uri": "https://localhost:8080/"
        },
        "id": "43hEka8M7dy2",
        "outputId": "1bfe5971-a5f4-431f-f19d-f222df8a2ab6"
      },
      "source": [
        "items_enriched = items.merge(google_data, on='itemID', suffixes=['_i', '_g'])\n",
        "items_enriched = items_enriched[items_enriched['description'] != 'NOT_FOUND']\n",
        "items_enriched.dropna(subset=['description'], inplace=True)\n",
        "items_enriched.info()\n",
        "# items_enriched.head(5)"
      ],
      "execution_count": null,
      "outputs": [
        {
          "output_type": "stream",
          "text": [
            "<class 'pandas.core.frame.DataFrame'>\n",
            "Int64Index: 62345 entries, 0 to 78029\n",
            "Data columns (total 18 columns):\n",
            " #   Column          Non-Null Count  Dtype \n",
            "---  ------          --------------  ----- \n",
            " 0   itemID          62345 non-null  int64 \n",
            " 1   title_i         62345 non-null  object\n",
            " 2   author_i        61256 non-null  object\n",
            " 3   publisher_i     62343 non-null  object\n",
            " 4   main topic_i    62203 non-null  object\n",
            " 5   subtopics_i     62344 non-null  object\n",
            " 6   title_g         62345 non-null  object\n",
            " 7   author_g        61256 non-null  object\n",
            " 8   publisher_g     62343 non-null  object\n",
            " 9   main topic_g    62203 non-null  object\n",
            " 10  subtopics_g     62345 non-null  object\n",
            " 11  title_gbooks    62345 non-null  object\n",
            " 12  authors_gbooks  62345 non-null  object\n",
            " 13  language        62345 non-null  object\n",
            " 14  description     62345 non-null  object\n",
            " 15  previewLink     62345 non-null  object\n",
            " 16  smallThumbnail  62345 non-null  object\n",
            " 17  bigThumbnail    62345 non-null  object\n",
            "dtypes: int64(1), object(17)\n",
            "memory usage: 9.0+ MB\n"
          ],
          "name": "stdout"
        }
      ]
    },
    {
      "cell_type": "code",
      "metadata": {
        "id": "jGDkFGHIkDqF"
      },
      "source": [
        "item_indexes = items_enriched.copy()\n",
        "item_indexes.reset_index(inplace=True)\n",
        "item_indexes['item_index'] = item_indexes.index\n",
        "item_indexes.drop(item_indexes.columns.difference(['item_index','itemID']), axis=1, inplace=True)\n",
        "\n",
        "items_enriched = items_enriched.merge(item_indexes, on='itemID')"
      ],
      "execution_count": null,
      "outputs": []
    },
    {
      "cell_type": "code",
      "metadata": {
        "colab": {
          "base_uri": "https://localhost:8080/"
        },
        "id": "ojfw74oNhTxC",
        "outputId": "b8b26190-af49-44e7-e2f1-cfbbfebafb98"
      },
      "source": [
        "evaluation_items_enriched = evaluation_items.merge(items).merge(google_data, on='itemID', suffixes=['_i', '_g'])\n",
        "evaluation_items_enriched.info()"
      ],
      "execution_count": null,
      "outputs": [
        {
          "output_type": "stream",
          "text": [
            "<class 'pandas.core.frame.DataFrame'>\n",
            "Int64Index: 998 entries, 0 to 997\n",
            "Data columns (total 18 columns):\n",
            " #   Column          Non-Null Count  Dtype \n",
            "---  ------          --------------  ----- \n",
            " 0   itemID          998 non-null    int64 \n",
            " 1   title_i         998 non-null    object\n",
            " 2   author_i        937 non-null    object\n",
            " 3   publisher_i     997 non-null    object\n",
            " 4   main topic_i    994 non-null    object\n",
            " 5   subtopics_i     998 non-null    object\n",
            " 6   title_g         998 non-null    object\n",
            " 7   author_g        937 non-null    object\n",
            " 8   publisher_g     997 non-null    object\n",
            " 9   main topic_g    994 non-null    object\n",
            " 10  subtopics_g     998 non-null    object\n",
            " 11  title_gbooks    923 non-null    object\n",
            " 12  authors_gbooks  923 non-null    object\n",
            " 13  language        923 non-null    object\n",
            " 14  description     923 non-null    object\n",
            " 15  previewLink     923 non-null    object\n",
            " 16  smallThumbnail  923 non-null    object\n",
            " 17  bigThumbnail    923 non-null    object\n",
            "dtypes: int64(1), object(17)\n",
            "memory usage: 148.1+ KB\n"
          ],
          "name": "stdout"
        }
      ]
    },
    {
      "cell_type": "markdown",
      "metadata": {
        "id": "mFIXX_5rAzlL"
      },
      "source": [
        "### Statistics"
      ]
    },
    {
      "cell_type": "code",
      "metadata": {
        "colab": {
          "base_uri": "https://localhost:8080/",
          "height": 451
        },
        "id": "PvJM66HW9ZH8",
        "outputId": "96c9a672-777f-4a8f-e76f-2e96dacd62dd"
      },
      "source": [
        "items_enriched['description_length'] = items_enriched.apply(lambda row: len(row['description']), axis=1)\n",
        "print(items_enriched.describe())\n",
        "items_enriched.hist(column=['description_length'], bins=100)\n",
        "print(items_enriched[items_enriched['description_length'] > 512].shape)"
      ],
      "execution_count": null,
      "outputs": [
        {
          "output_type": "stream",
          "text": [
            "             itemID    item_index  description_length\n",
            "count  62345.000000  62345.000000        62345.000000\n",
            "mean   39599.338664  31172.000000          713.821156\n",
            "std    22812.030486  17997.595603          646.613250\n",
            "min        0.000000      0.000000            3.000000\n",
            "25%    19859.000000  15586.000000          343.000000\n",
            "50%    39589.000000  31172.000000          632.000000\n",
            "75%    59351.000000  46758.000000          957.000000\n",
            "max    79067.000000  62344.000000       102723.000000\n",
            "(38183, 20)\n"
          ],
          "name": "stdout"
        },
        {
          "output_type": "display_data",
          "data": {
            "image/png": "[encoded data removed]",
            "text/plain": [
              "<Figure size 432x288 with 1 Axes>"
            ]
          },
          "metadata": {
            "tags": []
          }
        }
      ]
    },
    {
      "cell_type": "code",
      "metadata": {
        "colab": {
          "base_uri": "https://localhost:8080/",
          "height": 302
        },
        "id": "xZP9HoM6DlO4",
        "outputId": "85c34c90-1ff4-4ba6-c435-7ae692922b6e"
      },
      "source": [
        "items_enriched['language'].value_counts().plot(kind='bar')"
      ],
      "execution_count": null,
      "outputs": [
        {
          "output_type": "execute_result",
          "data": {
            "text/plain": [
              "<matplotlib.axes._subplots.AxesSubplot at 0x7f8644e90290>"
            ]
          },
          "metadata": {
            "tags": []
          },
          "execution_count": 42
        },
        {
          "output_type": "display_data",
          "data": {
            "image/png": "[encoded data removed]",
            "text/plain": [
              "<Figure size 432x288 with 1 Axes>"
            ]
          },
          "metadata": {
            "tags": []
          }
        }
      ]
    },
    {
      "cell_type": "code",
      "metadata": {
        "colab": {
          "base_uri": "https://localhost:8080/",
          "height": 285
        },
        "id": "bdUb9LrLh3LX",
        "outputId": "9800f726-77a5-4712-e80d-231b889acfd3"
      },
      "source": [
        "evaluation_items_enriched['language'].value_counts().plot(kind='bar')"
      ],
      "execution_count": null,
      "outputs": [
        {
          "output_type": "execute_result",
          "data": {
            "text/plain": [
              "<matplotlib.axes._subplots.AxesSubplot at 0x7f864c9e4c50>"
            ]
          },
          "metadata": {
            "tags": []
          },
          "execution_count": 72
        },
        {
          "output_type": "display_data",
          "data": {
            "image/png": "[encoded data removed]",
            "text/plain": [
              "<Figure size 432x288 with 1 Axes>"
            ]
          },
          "metadata": {
            "tags": []
          }
        }
      ]
    },
    {
      "cell_type": "code",
      "metadata": {
        "colab": {
          "base_uri": "https://localhost:8080/",
          "height": 518
        },
        "id": "TPVx8H0dD3Hj",
        "outputId": "c45081d4-c492-4750-83ef-158b31b251ca"
      },
      "source": [
        "print(items_enriched['main topic'].value_counts())\n",
        "items_enriched['main topic'].value_counts().plot(kind='bar')"
      ],
      "execution_count": null,
      "outputs": [
        {
          "output_type": "stream",
          "text": [
            "FM       5783\n",
            "YFB      4118\n",
            "FL       4047\n",
            "YFA      3883\n",
            "YFH      3499\n",
            "         ... \n",
            "UDBS        1\n",
            "YPCK9       1\n",
            "XAB         1\n",
            "YBLM        1\n",
            "JBCT1       1\n",
            "Name: main topic, Length: 493, dtype: int64\n"
          ],
          "name": "stdout"
        },
        {
          "output_type": "execute_result",
          "data": {
            "text/plain": [
              "<matplotlib.axes._subplots.AxesSubplot at 0x7f476c7d5f10>"
            ]
          },
          "metadata": {
            "tags": []
          },
          "execution_count": 9
        },
        {
          "output_type": "display_data",
          "data": {
            "image/png": "[encoded data removed]",
            "text/plain": [
              "<Figure size 432x288 with 1 Axes>"
            ]
          },
          "metadata": {
            "tags": []
          }
        }
      ]
    },
    {
      "cell_type": "markdown",
      "metadata": {
        "id": "At-u3Z41BYMy"
      },
      "source": [
        "## Compute Embeddings"
      ]
    },
    {
      "cell_type": "markdown",
      "metadata": {
        "id": "4awnY8VD5N4W"
      },
      "source": [
        "### Encode"
      ]
    },
    {
      "cell_type": "code",
      "metadata": {
        "colab": {
          "base_uri": "https://localhost:8080/",
          "height": 115,
          "referenced_widgets": [
            "ead2fe95a5b94402932900c52f1ccf66",
            "7744d635a4304286955638b5dfbbb769",
            "c4539910981c4729a9f20aeb1dbf188f",
            "891780f6b2b848cca341001d7a01d6b7",
            "0fa934fe1a2a4929a921c1b42ff0869e",
            "1f89b7aa82464a28952a8ec635635cd9",
            "e248345d1859484cb412b49584941e8e",
            "8b1d2973fbb542f5a8d2b73d264c7357",
            "2accea3c6cbf49f1b3c163b412bf02d6",
            "a18da4e727294505825acc8bfba48fb7",
            "7e741e4150594211a56fe4f767e4e598",
            "0ac56ad851be47a7858da3062d983f81",
            "2c78b1c959214c38b99a6d61a3ef63b5",
            "1c49e40b59d54b5ba7bb28e4222b582b",
            "993d345cb74a4670bfcc855e3a949402",
            "7534bf42116f4426b5aa550eef0033d8"
          ]
        },
        "id": "EMYWk2tVBZ4Y",
        "outputId": "ddea5baa-6865-4d98-d234-89f933062ef7"
      },
      "source": [
        "# tokenizer = BertTokenizerFast.from_pretrained('bert-base-uncased')\n",
        "# tokenizer = DistilBertTokenizerFast.from_pretrained('distilbert-base-uncased')\n",
        "tokenizer = XLMRobertaTokenizerFast.from_pretrained('xlm-roberta-base')"
      ],
      "execution_count": null,
      "outputs": [
        {
          "output_type": "display_data",
          "data": {
            "application/vnd.jupyter.widget-view+json": {
              "model_id": "ead2fe95a5b94402932900c52f1ccf66",
              "version_major": 2,
              "version_minor": 0
            },
            "text/plain": [
              "HBox(children=(FloatProgress(value=0.0, description='Downloading', max=5069051.0, style=ProgressStyle(descript…"
            ]
          },
          "metadata": {
            "tags": []
          }
        },
        {
          "output_type": "stream",
          "text": [
            "\n"
          ],
          "name": "stdout"
        },
        {
          "output_type": "display_data",
          "data": {
            "application/vnd.jupyter.widget-view+json": {
              "model_id": "2accea3c6cbf49f1b3c163b412bf02d6",
              "version_major": 2,
              "version_minor": 0
            },
            "text/plain": [
              "HBox(children=(FloatProgress(value=0.0, description='Downloading', max=9096718.0, style=ProgressStyle(descript…"
            ]
          },
          "metadata": {
            "tags": []
          }
        },
        {
          "output_type": "stream",
          "text": [
            "\n"
          ],
          "name": "stdout"
        }
      ]
    },
    {
      "cell_type": "code",
      "metadata": {
        "id": "PrWaVFhAJrGI"
      },
      "source": [
        "encodings = tokenizer.batch_encode_plus(list(items_enriched['description'].values), \n",
        "                                        truncation=True, padding=\"max_length\", return_tensors=\"pt\")\n",
        "save_as_pickle(encodings, encodings_path)"
      ],
      "execution_count": null,
      "outputs": []
    },
    {
      "cell_type": "code",
      "metadata": {
        "id": "wmoatUYbgQ3X"
      },
      "source": [
        "encodings = load_pickle(encodings_path)"
      ],
      "execution_count": null,
      "outputs": []
    },
    {
      "cell_type": "code",
      "metadata": {
        "colab": {
          "base_uri": "https://localhost:8080/"
        },
        "id": "RCAchwmbT16L",
        "outputId": "205921b7-6b78-4a9a-cb68-d7265589cfd8"
      },
      "source": [
        "print(encodings['input_ids'].size())"
      ],
      "execution_count": null,
      "outputs": [
        {
          "output_type": "stream",
          "text": [
            "torch.Size([62345, 512])\n"
          ],
          "name": "stdout"
        }
      ]
    },
    {
      "cell_type": "markdown",
      "metadata": {
        "id": "Ry8OAUV75Ug6"
      },
      "source": [
        "### Apply Model"
      ]
    },
    {
      "cell_type": "code",
      "metadata": {
        "colab": {
          "base_uri": "https://localhost:8080/",
          "height": 186,
          "referenced_widgets": [
            "bbcd3ce395694224aaa0e2d93d429092",
            "4f731516275f4c2da2d24d9e6fdec1cf",
            "63e998f627f846a2921c16efbfdfd347",
            "a5516622f81e4be3949e935a8166445b",
            "d0246d3aba4c4046ac0605d5045e3ce2",
            "5285440967234c0497e46dc1b46492fe",
            "7f084caa1e214f3a8b2f2c664b6df3bd",
            "388ad73564f546a3a9fe347c50bb657b",
            "b18e2743980d4d84bcf3622dad267a44",
            "7449dcdafbb14a9c94ff3b00004422f0",
            "b0db56c3acfd4889832f8096a11334f3",
            "559040a22f4148e18a5f671657c5b29e",
            "0b5670f67b6b42beaf098feafd2f21b1",
            "99c84123b77e479880d05a6b65160193",
            "90028810bbfd471e8f77620625c8dc58",
            "a43114e612dd4007bdf29aa3ca8056bb"
          ]
        },
        "id": "m2Ka_HMmy3ZE",
        "outputId": "38e57ca4-3dd0-4b61-a368-5d224cf2a280"
      },
      "source": [
        "# model = BertModel.from_pretrained('bert-base-uncased')\n",
        "model = XLMRobertaModel.from_pretrained('xlm-roberta-base')"
      ],
      "execution_count": null,
      "outputs": [
        {
          "output_type": "display_data",
          "data": {
            "application/vnd.jupyter.widget-view+json": {
              "model_id": "bbcd3ce395694224aaa0e2d93d429092",
              "version_major": 2,
              "version_minor": 0
            },
            "text/plain": [
              "HBox(children=(FloatProgress(value=0.0, description='Downloading', max=512.0, style=ProgressStyle(description_…"
            ]
          },
          "metadata": {
            "tags": []
          }
        },
        {
          "output_type": "stream",
          "text": [
            "\n"
          ],
          "name": "stdout"
        },
        {
          "output_type": "display_data",
          "data": {
            "application/vnd.jupyter.widget-view+json": {
              "model_id": "b18e2743980d4d84bcf3622dad267a44",
              "version_major": 2,
              "version_minor": 0
            },
            "text/plain": [
              "HBox(children=(FloatProgress(value=0.0, description='Downloading', max=1115590446.0, style=ProgressStyle(descr…"
            ]
          },
          "metadata": {
            "tags": []
          }
        },
        {
          "output_type": "stream",
          "text": [
            "\n"
          ],
          "name": "stdout"
        },
        {
          "output_type": "stream",
          "text": [
            "Some weights of the model checkpoint at xlm-roberta-base were not used when initializing XLMRobertaModel: ['lm_head.decoder.weight', 'lm_head.dense.bias', 'lm_head.dense.weight', 'lm_head.layer_norm.bias', 'lm_head.bias', 'lm_head.layer_norm.weight']\n",
            "- This IS expected if you are initializing XLMRobertaModel from the checkpoint of a model trained on another task or with another architecture (e.g. initializing a BertForSequenceClassification model from a BertForPreTraining model).\n",
            "- This IS NOT expected if you are initializing XLMRobertaModel from the checkpoint of a model that you expect to be exactly identical (initializing a BertForSequenceClassification model from a BertForSequenceClassification model).\n"
          ],
          "name": "stderr"
        }
      ]
    },
    {
      "cell_type": "code",
      "metadata": {
        "id": "3L-0OdFFSISI"
      },
      "source": [
        "class Dataset(torch.utils.data.Dataset):\n",
        "  def __init__(self, encodings, boundaries=None):\n",
        "    if boundaries is not None:\n",
        "      self.encodings = {key: val[boundaries[0]: boundaries[1]] for key, val in encodings.items()}\n",
        "    else:\n",
        "      self.encodings = encodings\n",
        "\n",
        "  def __getitem__(self, idx):\n",
        "      item = {key: torch.tensor(val[idx]) for key, val in self.encodings.items()}\n",
        "      return item\n",
        "\n",
        "  def __len__(self):\n",
        "      return len(self.encodings['input_ids'])\n",
        "\n",
        "# dataset = Dataset(encodings, (0, 1000))\n",
        "# dataset = Dataset(encodings)\n",
        "# print(len(dataset))\n",
        "# dataset.__getitem__(10)"
      ],
      "execution_count": null,
      "outputs": []
    },
    {
      "cell_type": "code",
      "metadata": {
        "id": "AlpIo6ZJSk_q"
      },
      "source": [
        "trainer = Trainer(\n",
        "    model = model\n",
        ")"
      ],
      "execution_count": null,
      "outputs": []
    },
    {
      "cell_type": "code",
      "metadata": {
        "id": "UCU_JPD3w_1R"
      },
      "source": [
        "def get_embeddings(dataset):\n",
        "  prediction_output = trainer.predict(dataset)\n",
        "  results = prediction_output.predictions[1]\n",
        "  del prediction_output\n",
        "  torch.cuda.empty_cache()\n",
        "  gc.collect()\n",
        "  return results"
      ],
      "execution_count": null,
      "outputs": []
    },
    {
      "cell_type": "code",
      "metadata": {
        "id": "DsqcQTrgz7iN"
      },
      "source": [
        "subset_size = 1000"
      ],
      "execution_count": null,
      "outputs": []
    },
    {
      "cell_type": "code",
      "metadata": {
        "colab": {
          "background_save": true
        },
        "id": "2IiKsfKYwU7X"
      },
      "source": [
        "for i in range(1000, len(encodings['input_ids']), subset_size):\n",
        "  print(i)\n",
        "  sub_dataset = Dataset(encodings, (i-subset_size, i))\n",
        "  embedding_array = get_embeddings(sub_dataset)\n",
        "  path = full_project_drive_folder + f'descriptions/embeddings/{i-subset_size}-{i}.pkl'\n",
        "  save_as_pickle(embedding_array, path)\n",
        "  print('saved', path)\n",
        "  del sub_dataset\n",
        "  del embedding_array\n",
        "  torch.cuda.empty_cache()\n",
        "  gc.collect()"
      ],
      "execution_count": null,
      "outputs": []
    },
    {
      "cell_type": "code",
      "metadata": {
        "colab": {
          "base_uri": "https://localhost:8080/",
          "height": 91
        },
        "id": "heFIuYzICvaH",
        "outputId": "6f678e59-a8e1-41b3-c957-60781066410b"
      },
      "source": [
        "# rests\n",
        "lower = 62000\n",
        "upper = len(encodings['input_ids'])\n",
        "sub_dataset = Dataset(encodings, (lower, upper))\n",
        "embedding_array = get_embeddings(sub_dataset)\n",
        "path = full_project_drive_folder + f'descriptions/embeddings/{lower}-{upper}.pkl'\n",
        "save_as_pickle(embedding_array, path)"
      ],
      "execution_count": null,
      "outputs": [
        {
          "output_type": "stream",
          "text": [
            "/usr/local/lib/python3.7/dist-packages/ipykernel_launcher.py:9: UserWarning: To copy construct from a tensor, it is recommended to use sourceTensor.clone().detach() or sourceTensor.clone().detach().requires_grad_(True), rather than torch.tensor(sourceTensor).\n",
            "  if __name__ == '__main__':\n"
          ],
          "name": "stderr"
        },
        {
          "output_type": "display_data",
          "data": {
            "text/html": [
              "\n",
              "    <div>\n",
              "      \n",
              "      <progress value='7941' max='125' style='width:300px; height:20px; vertical-align: middle;'></progress>\n",
              "      [125/125 55:59]\n",
              "    </div>\n",
              "    "
            ],
            "text/plain": [
              "<IPython.core.display.HTML object>"
            ]
          },
          "metadata": {
            "tags": []
          }
        }
      ]
    },
    {
      "cell_type": "code",
      "metadata": {
        "colab": {
          "base_uri": "https://localhost:8080/"
        },
        "id": "Ynr7dL690qat",
        "outputId": "f601a7dc-b722-491c-8ed3-944fdd8c9f1a"
      },
      "source": [
        "print(embedding_array.shape)"
      ],
      "execution_count": null,
      "outputs": [
        {
          "output_type": "stream",
          "text": [
            "(345, 768)\n"
          ],
          "name": "stdout"
        }
      ]
    },
    {
      "cell_type": "markdown",
      "metadata": {
        "id": "-l8DT-ce5YgR"
      },
      "source": [
        "### Combine Results"
      ]
    },
    {
      "cell_type": "code",
      "metadata": {
        "id": "p24lFrQ35uSU"
      },
      "source": [
        "embedding_arrays = [load_pickle(join(embeddings_folder, f)) for f in listdir(embeddings_folder) \n",
        "                                                              if load_pickle(join(embeddings_folder, f)).shape[1] == 768]\n",
        "embeddings = np.concatenate(embedding_arrays)\n",
        "save_as_pickle(embeddings, embeddings_path)"
      ],
      "execution_count": null,
      "outputs": []
    },
    {
      "cell_type": "code",
      "metadata": {
        "id": "S4HA5mXE7o6O"
      },
      "source": [
        "embeddings = load_pickle(embeddings_path)"
      ],
      "execution_count": null,
      "outputs": []
    },
    {
      "cell_type": "code",
      "metadata": {
        "colab": {
          "base_uri": "https://localhost:8080/"
        },
        "id": "lPjJ9UyA1O8c",
        "outputId": "a6b4659e-9a3e-4484-cd51-6a3149d65474"
      },
      "source": [
        "embeddings.shape"
      ],
      "execution_count": null,
      "outputs": [
        {
          "output_type": "execute_result",
          "data": {
            "text/plain": [
              "(62345, 768)"
            ]
          },
          "metadata": {
            "tags": []
          },
          "execution_count": 22
        }
      ]
    },
    {
      "cell_type": "markdown",
      "metadata": {
        "id": "s94N0O-G74g5"
      },
      "source": [
        "## Recommend Amazon Data"
      ]
    },
    {
      "cell_type": "markdown",
      "metadata": {
        "id": "vDiwoQiA_9F2"
      },
      "source": [
        "### Load Data"
      ]
    },
    {
      "cell_type": "code",
      "metadata": {
        "id": "9uqJk-Oj9Kel"
      },
      "source": [
        "# amazon_test = pd.read_csv(amazon_test_path)\n",
        "# amazon_val = pd.read_csv(amazon_val_path)\n",
        "# amazon_val = amazon_val.merge(item_indexes, on='itemID', how='left')\n",
        "# items_enriched_index is null if item is not in enriched data set (which contains descriptions)\n",
        "# amazon_val.info()"
      ],
      "execution_count": null,
      "outputs": []
    },
    {
      "cell_type": "code",
      "metadata": {
        "id": "RQSLbDth_2bj"
      },
      "source": [
        "internal_amazon = load_pickle(internal_amazon_path)"
      ],
      "execution_count": null,
      "outputs": []
    },
    {
      "cell_type": "code",
      "metadata": {
        "colab": {
          "base_uri": "https://localhost:8080/"
        },
        "id": "molWngdJJsRk",
        "outputId": "36091b8c-3c86-4390-d2e9-44014ecd05e4"
      },
      "source": [
        "amazon_item_ids_df = pd.DataFrame.from_dict({'itemID': list(internal_amazon.keys())})\n",
        "amazon_item_ids_df = amazon_item_ids_df.merge(item_indexes, how='left')\n",
        "amazon_item_embedding_indexes = {int(row['itemID']): int(row['item_index']) if not np.isnan(row['item_index']) else None\n",
        "                                  for idx, row in amazon_item_ids_df.iterrows()}\n",
        "len(amazon_item_indexes)"
      ],
      "execution_count": null,
      "outputs": [
        {
          "output_type": "execute_result",
          "data": {
            "text/plain": [
              "232"
            ]
          },
          "metadata": {
            "tags": []
          },
          "execution_count": 72
        }
      ]
    },
    {
      "cell_type": "markdown",
      "metadata": {
        "id": "-aOsIaFxAAjM"
      },
      "source": [
        "### Enrich Internal File with Recommendations"
      ]
    },
    {
      "cell_type": "code",
      "metadata": {
        "id": "Wh5rUGVS5cfX"
      },
      "source": [
        "scaler = MinMaxScaler()"
      ],
      "execution_count": null,
      "outputs": []
    },
    {
      "cell_type": "code",
      "metadata": {
        "colab": {
          "base_uri": "https://localhost:8080/"
        },
        "id": "YZVOCuphMnpU",
        "outputId": "677469fd-7244-4216-a903-26ec2f1208bc"
      },
      "source": [
        "for idx, (item_id, sim_df) in enumerate(internal_amazon.items()):\n",
        "\n",
        "  print(f'{datetime.datetime.now()} {idx+1}/{len(internal_amazon)}')\n",
        "  embedding_index = amazon_item_indexes[item_id]\n",
        "  \n",
        "  # if embedding_index is none there is no description and therefore no embedding -> skip this and set np.nan\n",
        "  if embedding_index:\n",
        "    # compute cosine values and normalize\n",
        "    cosine_similarity_matrix = cosine_similarity(embeddings[embedding_index,:].reshape(1, -1), embeddings)\n",
        "    similarities = scaler.fit_transform([[sim] for sim in cosine_similarity_matrix[0]])\n",
        "    similarities = [sim[0] for sim in similarities]\n",
        "\n",
        "    # merge bert similarity values with existing similarities from other methods\n",
        "    item_ids = [items_enriched.iloc[idx]['itemID'] for idx, sim in enumerate(cosine_similarity_matrix[0])]\n",
        "    bert_df = pd.DataFrame.from_dict({'bert': similarities, 'itemID': item_ids})\n",
        "    sim_df_merged_bert = sim_df.merge(bert_df, on='itemID', how='left')\n",
        "\n",
        "  # set then to np.nan\n",
        "  else:\n",
        "    sim_df_merged_bert['bert'] = np.nan\n",
        "  \n",
        "  internal_amazon[item_id] = sim_df_merged_bert"
      ],
      "execution_count": null,
      "outputs": [
        {
          "output_type": "stream",
          "text": [
            "2021-06-01 20:07:28.375248 1/232\n",
            "2021-06-01 20:07:35.967140 2/232\n",
            "2021-06-01 20:07:43.395719 3/232\n",
            "2021-06-01 20:07:50.909041 4/232\n",
            "2021-06-01 20:07:58.330706 5/232\n",
            "2021-06-01 20:08:05.831999 6/232\n",
            "2021-06-01 20:08:13.355881 7/232\n",
            "2021-06-01 20:08:20.782870 8/232\n",
            "2021-06-01 20:08:20.784074 9/232\n",
            "2021-06-01 20:08:28.321214 10/232\n",
            "2021-06-01 20:08:35.825238 11/232\n",
            "2021-06-01 20:08:35.826506 12/232\n",
            "2021-06-01 20:08:43.427507 13/232\n",
            "2021-06-01 20:08:43.428729 14/232\n",
            "2021-06-01 20:08:50.805493 15/232\n",
            "2021-06-01 20:08:58.314785 16/232\n",
            "2021-06-01 20:08:58.315998 17/232\n",
            "2021-06-01 20:09:05.863811 18/232\n",
            "2021-06-01 20:09:13.288003 19/232\n",
            "2021-06-01 20:09:20.791095 20/232\n",
            "2021-06-01 20:09:28.233608 21/232\n",
            "2021-06-01 20:09:35.649339 22/232\n",
            "2021-06-01 20:09:43.213603 23/232\n",
            "2021-06-01 20:09:50.641663 24/232\n",
            "2021-06-01 20:09:50.642838 25/232\n",
            "2021-06-01 20:09:58.220091 26/232\n",
            "2021-06-01 20:10:05.819812 27/232\n",
            "2021-06-01 20:10:13.322350 28/232\n",
            "2021-06-01 20:10:20.779845 29/232\n",
            "2021-06-01 20:10:28.169073 30/232\n",
            "2021-06-01 20:10:35.655566 31/232\n",
            "2021-06-01 20:10:35.656725 32/232\n",
            "2021-06-01 20:10:43.061347 33/232\n",
            "2021-06-01 20:10:50.578730 34/232\n",
            "2021-06-01 20:10:50.579902 35/232\n",
            "2021-06-01 20:10:50.580650 36/232\n",
            "2021-06-01 20:10:58.092886 37/232\n",
            "2021-06-01 20:11:05.514398 38/232\n",
            "2021-06-01 20:11:05.515610 39/232\n",
            "2021-06-01 20:11:13.104252 40/232\n",
            "2021-06-01 20:11:20.611671 41/232\n",
            "2021-06-01 20:11:28.212561 42/232\n",
            "2021-06-01 20:11:35.744183 43/232\n",
            "2021-06-01 20:11:43.133560 44/232\n",
            "2021-06-01 20:11:50.685229 45/232\n",
            "2021-06-01 20:11:58.085260 46/232\n",
            "2021-06-01 20:11:58.086987 47/232\n",
            "2021-06-01 20:12:05.594820 48/232\n",
            "2021-06-01 20:12:13.035739 49/232\n",
            "2021-06-01 20:12:20.537048 50/232\n",
            "2021-06-01 20:12:28.145186 51/232\n",
            "2021-06-01 20:12:35.582544 52/232\n",
            "2021-06-01 20:12:43.158969 53/232\n",
            "2021-06-01 20:12:50.693424 54/232\n",
            "2021-06-01 20:12:58.141896 55/232\n",
            "2021-06-01 20:13:05.675779 56/232\n",
            "2021-06-01 20:13:05.677282 57/232\n",
            "2021-06-01 20:13:13.238522 58/232\n",
            "2021-06-01 20:13:20.589248 59/232\n",
            "2021-06-01 20:13:20.590412 60/232\n",
            "2021-06-01 20:13:28.159907 61/232\n",
            "2021-06-01 20:13:35.589546 62/232\n",
            "2021-06-01 20:13:35.591019 63/232\n",
            "2021-06-01 20:13:43.112504 64/232\n",
            "2021-06-01 20:13:50.619879 65/232\n",
            "2021-06-01 20:13:58.101830 66/232\n",
            "2021-06-01 20:14:05.694252 67/232\n",
            "2021-06-01 20:14:13.259441 68/232\n",
            "2021-06-01 20:14:13.260994 69/232\n",
            "2021-06-01 20:14:20.766279 70/232\n",
            "2021-06-01 20:14:28.274732 71/232\n",
            "2021-06-01 20:14:35.757981 72/232\n",
            "2021-06-01 20:14:43.232021 73/232\n",
            "2021-06-01 20:14:50.586003 74/232\n",
            "2021-06-01 20:14:50.587395 75/232\n",
            "2021-06-01 20:14:58.079508 76/232\n",
            "2021-06-01 20:15:05.449601 77/232\n",
            "2021-06-01 20:15:13.077021 78/232\n",
            "2021-06-01 20:15:20.604225 79/232\n",
            "2021-06-01 20:15:28.116493 80/232\n",
            "2021-06-01 20:15:35.597210 81/232\n",
            "2021-06-01 20:15:43.166042 82/232\n",
            "2021-06-01 20:15:50.590258 83/232\n",
            "2021-06-01 20:15:58.098942 84/232\n",
            "2021-06-01 20:16:05.508507 85/232\n",
            "2021-06-01 20:16:13.165653 86/232\n",
            "2021-06-01 20:16:20.567123 87/232\n",
            "2021-06-01 20:16:28.092010 88/232\n",
            "2021-06-01 20:16:35.503802 89/232\n",
            "2021-06-01 20:16:43.063190 90/232\n",
            "2021-06-01 20:16:50.676693 91/232\n",
            "2021-06-01 20:16:50.677820 92/232\n",
            "2021-06-01 20:16:57.996313 93/232\n",
            "2021-06-01 20:17:05.491665 94/232\n",
            "2021-06-01 20:17:05.492959 95/232\n",
            "2021-06-01 20:17:13.062516 96/232\n",
            "2021-06-01 20:17:20.617251 97/232\n",
            "2021-06-01 20:17:28.155379 98/232\n",
            "2021-06-01 20:17:28.156762 99/232\n",
            "2021-06-01 20:17:35.614785 100/232\n",
            "2021-06-01 20:17:43.108828 101/232\n",
            "2021-06-01 20:17:43.109984 102/232\n",
            "2021-06-01 20:17:50.477273 103/232\n",
            "2021-06-01 20:17:58.060287 104/232\n",
            "2021-06-01 20:18:05.539141 105/232\n",
            "2021-06-01 20:18:13.112389 106/232\n",
            "2021-06-01 20:18:20.658549 107/232\n",
            "2021-06-01 20:18:20.659699 108/232\n",
            "2021-06-01 20:18:28.135154 109/232\n",
            "2021-06-01 20:18:35.621893 110/232\n",
            "2021-06-01 20:18:43.090971 111/232\n",
            "2021-06-01 20:18:50.483192 112/232\n",
            "2021-06-01 20:18:58.102686 113/232\n",
            "2021-06-01 20:19:05.506149 114/232\n",
            "2021-06-01 20:19:05.507553 115/232\n",
            "2021-06-01 20:19:13.179326 116/232\n",
            "2021-06-01 20:19:20.637483 117/232\n",
            "2021-06-01 20:19:28.240385 118/232\n",
            "2021-06-01 20:19:35.751327 119/232\n",
            "2021-06-01 20:19:43.280270 120/232\n",
            "2021-06-01 20:19:50.728003 121/232\n",
            "2021-06-01 20:19:58.161716 122/232\n",
            "2021-06-01 20:19:58.163193 123/232\n",
            "2021-06-01 20:20:05.640645 124/232\n",
            "2021-06-01 20:20:13.245513 125/232\n",
            "2021-06-01 20:20:20.627767 126/232\n",
            "2021-06-01 20:20:28.178478 127/232\n",
            "2021-06-01 20:20:35.554607 128/232\n",
            "2021-06-01 20:20:43.161776 129/232\n",
            "2021-06-01 20:20:43.163049 130/232\n",
            "2021-06-01 20:20:43.164000 131/232\n",
            "2021-06-01 20:20:43.164675 132/232\n",
            "2021-06-01 20:20:50.723644 133/232\n",
            "2021-06-01 20:20:58.124506 134/232\n",
            "2021-06-01 20:21:05.596233 135/232\n",
            "2021-06-01 20:21:05.597398 136/232\n",
            "2021-06-01 20:21:05.598506 137/232\n",
            "2021-06-01 20:21:13.088426 138/232\n",
            "2021-06-01 20:21:20.610440 139/232\n",
            "2021-06-01 20:21:27.975521 140/232\n",
            "2021-06-01 20:21:35.487513 141/232\n",
            "2021-06-01 20:21:35.488692 142/232\n",
            "2021-06-01 20:21:35.489692 143/232\n",
            "2021-06-01 20:21:43.098445 144/232\n",
            "2021-06-01 20:21:50.528751 145/232\n",
            "2021-06-01 20:21:58.129745 146/232\n",
            "2021-06-01 20:22:05.638752 147/232\n",
            "2021-06-01 20:22:13.097781 148/232\n",
            "2021-06-01 20:22:20.699453 149/232\n",
            "2021-06-01 20:22:28.089368 150/232\n",
            "2021-06-01 20:22:35.601510 151/232\n",
            "2021-06-01 20:22:43.157295 152/232\n",
            "2021-06-01 20:22:50.651738 153/232\n",
            "2021-06-01 20:22:58.210544 154/232\n",
            "2021-06-01 20:23:05.698325 155/232\n",
            "2021-06-01 20:23:13.300070 156/232\n",
            "2021-06-01 20:23:22.040269 157/232\n",
            "2021-06-01 20:23:29.628769 158/232\n",
            "2021-06-01 20:23:29.630165 159/232\n",
            "2021-06-01 20:23:29.631134 160/232\n",
            "2021-06-01 20:23:37.124846 161/232\n",
            "2021-06-01 20:23:44.443938 162/232\n",
            "2021-06-01 20:23:51.909225 163/232\n",
            "2021-06-01 20:23:51.910373 164/232\n",
            "2021-06-01 20:23:59.422366 165/232\n",
            "2021-06-01 20:24:06.866826 166/232\n",
            "2021-06-01 20:24:14.486384 167/232\n",
            "2021-06-01 20:24:21.822180 168/232\n",
            "2021-06-01 20:24:29.394515 169/232\n",
            "2021-06-01 20:24:36.751592 170/232\n",
            "2021-06-01 20:24:44.225404 171/232\n",
            "2021-06-01 20:24:51.819484 172/232\n",
            "2021-06-01 20:24:51.820911 173/232\n",
            "2021-06-01 20:24:59.351712 174/232\n",
            "2021-06-01 20:25:06.963196 175/232\n",
            "2021-06-01 20:25:14.537370 176/232\n",
            "2021-06-01 20:25:21.997839 177/232\n",
            "2021-06-01 20:25:29.532027 178/232\n",
            "2021-06-01 20:25:37.002012 179/232\n",
            "2021-06-01 20:25:44.560409 180/232\n",
            "2021-06-01 20:25:51.886451 181/232\n",
            "2021-06-01 20:25:59.343989 182/232\n",
            "2021-06-01 20:26:06.838714 183/232\n",
            "2021-06-01 20:26:14.250790 184/232\n",
            "2021-06-01 20:26:21.689606 185/232\n",
            "2021-06-01 20:26:21.690770 186/232\n",
            "2021-06-01 20:26:29.056755 187/232\n",
            "2021-06-01 20:26:36.509178 188/232\n",
            "2021-06-01 20:26:44.122534 189/232\n",
            "2021-06-01 20:26:44.123672 190/232\n",
            "2021-06-01 20:26:51.537606 191/232\n",
            "2021-06-01 20:26:59.081287 192/232\n",
            "2021-06-01 20:27:06.581273 193/232\n",
            "2021-06-01 20:27:14.118984 194/232\n",
            "2021-06-01 20:27:14.120362 195/232\n",
            "2021-06-01 20:27:21.869247 196/232\n",
            "2021-06-01 20:27:21.870970 197/232\n",
            "2021-06-01 20:27:21.872231 198/232\n",
            "2021-06-01 20:27:21.873261 199/232\n",
            "2021-06-01 20:27:29.281658 200/232\n",
            "2021-06-01 20:27:36.879214 201/232\n",
            "2021-06-01 20:27:44.320361 202/232\n",
            "2021-06-01 20:27:51.801026 203/232\n",
            "2021-06-01 20:27:59.298835 204/232\n",
            "2021-06-01 20:27:59.300231 205/232\n",
            "2021-06-01 20:28:06.670286 206/232\n",
            "2021-06-01 20:28:06.671883 207/232\n",
            "2021-06-01 20:28:14.214249 208/232\n",
            "2021-06-01 20:28:21.762201 209/232\n",
            "2021-06-01 20:28:29.109726 210/232\n",
            "2021-06-01 20:28:36.569746 211/232\n",
            "2021-06-01 20:28:36.570910 212/232\n",
            "2021-06-01 20:28:43.909535 213/232\n",
            "2021-06-01 20:28:51.469376 214/232\n",
            "2021-06-01 20:28:58.994728 215/232\n",
            "2021-06-01 20:29:06.332791 216/232\n",
            "2021-06-01 20:29:06.334316 217/232\n",
            "2021-06-01 20:29:13.815013 218/232\n",
            "2021-06-01 20:29:13.816402 219/232\n",
            "2021-06-01 20:29:13.817250 220/232\n",
            "2021-06-01 20:29:21.279487 221/232\n",
            "2021-06-01 20:29:28.751623 222/232\n",
            "2021-06-01 20:29:36.219232 223/232\n",
            "2021-06-01 20:29:43.568501 224/232\n",
            "2021-06-01 20:29:43.569928 225/232\n",
            "2021-06-01 20:29:51.053273 226/232\n",
            "2021-06-01 20:29:58.694612 227/232\n",
            "2021-06-01 20:30:06.139715 228/232\n",
            "2021-06-01 20:30:06.141269 229/232\n",
            "2021-06-01 20:30:06.142025 230/232\n",
            "2021-06-01 20:30:13.564536 231/232\n",
            "2021-06-01 20:30:21.059591 232/232\n"
          ],
          "name": "stdout"
        }
      ]
    },
    {
      "cell_type": "code",
      "metadata": {
        "id": "m1wzcL99HwD_"
      },
      "source": [
        "save_as_pickle(internal_amazon, internal_amazon_path)"
      ],
      "execution_count": null,
      "outputs": []
    }
  ]
}