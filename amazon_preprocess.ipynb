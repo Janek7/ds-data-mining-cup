{
  "nbformat": 4,
  "nbformat_minor": 0,
  "metadata": {
    "colab": {
      "name": "amazon-preprocess.ipynb",
      "provenance": [],
      "toc_visible": true
    },
    "kernelspec": {
      "name": "python3",
      "display_name": "Python 3"
    },
    "language_info": {
      "name": "python"
    }
  },
  "cells": [
    {
      "cell_type": "markdown",
      "metadata": {
        "id": "nEswN5Gkwp0-"
      },
      "source": [
        "# Preprocess Amazon Testset"
      ]
    },
    {
      "cell_type": "code",
      "metadata": {
        "id": "2Faw0AbdwnNY"
      },
      "source": [
        "from google.colab import drive\n",
        "import numpy as np\n",
        "import pandas as pd\n",
        "from itertools import chain"
      ],
      "execution_count": 26,
      "outputs": []
    },
    {
      "cell_type": "code",
      "metadata": {
        "colab": {
          "base_uri": "https://localhost:8080/"
        },
        "id": "gb9yVicYwzFj",
        "outputId": "bc549a80-ce7c-4d4a-de53-096774a53bf9"
      },
      "source": [
        "drive.mount('/content/drive', force_remount=True)  # use force_remount=True param after upload of new data\n",
        "\n",
        "# file and folder names\n",
        "project_drive_folder = \"Master/2 - FSS 2021/Data Mining II/Data Mining Cup\" \n",
        "full_project_drive_folder = \"/content/drive/My Drive/{}/Data/\".format(project_drive_folder)\n",
        "\n",
        "# general\n",
        "amazon_test_path = full_project_drive_folder + 'Amazon/dmc21_amazon_test.csv'\n",
        "amazon_test_preprocessed_path = full_project_drive_folder + 'Amazon/dmc21_amazon_test_preprocessed.csv'"
      ],
      "execution_count": 2,
      "outputs": [
        {
          "output_type": "stream",
          "text": [
            "Mounted at /content/drive\n"
          ],
          "name": "stdout"
        }
      ]
    },
    {
      "cell_type": "code",
      "metadata": {
        "id": "cZqbGS87xRMA"
      },
      "source": [
        "amazon_test = pd.read_csv(amazon_test_path)"
      ],
      "execution_count": 3,
      "outputs": []
    },
    {
      "cell_type": "code",
      "metadata": {
        "colab": {
          "base_uri": "https://localhost:8080/"
        },
        "id": "d11eUTQExXtp",
        "outputId": "64f91bb9-d876-44e9-e1aa-b1442f7842b6"
      },
      "source": [
        "amazon_test.info()"
      ],
      "execution_count": 4,
      "outputs": [
        {
          "output_type": "stream",
          "text": [
            "<class 'pandas.core.frame.DataFrame'>\n",
            "RangeIndex: 233 entries, 0 to 232\n",
            "Data columns (total 8 columns):\n",
            " #   Column   Non-Null Count  Dtype \n",
            "---  ------   --------------  ----- \n",
            " 0   itemID   233 non-null    int64 \n",
            " 1   rec1_ID  162 non-null    object\n",
            " 2   rec2_ID  157 non-null    object\n",
            " 3   rec3_ID  119 non-null    object\n",
            " 4   rec4_ID  117 non-null    object\n",
            " 5   rec5_ID  111 non-null    object\n",
            " 6   rec6_ID  96 non-null     object\n",
            " 7   rec7_ID  96 non-null     object\n",
            "dtypes: int64(1), object(7)\n",
            "memory usage: 14.7+ KB\n"
          ],
          "name": "stdout"
        }
      ]
    },
    {
      "cell_type": "code",
      "metadata": {
        "id": "AAT7GAg40lJ1"
      },
      "source": [
        "amazon_test_row_normalized = amazon_test.melt(id_vars=[\"itemID\"], \n",
        "                                              var_name = 'origin_column',\n",
        "                                              value_name=\"recID\")\n",
        "amazon_test_row_normalized.dropna(subset=['recID'], inplace=True)\n",
        "amazon_test_row_normalized['rank'] = amazon_test_row_normalized.apply(lambda row: int(row['origin_column'][3:4]),\n",
        "                                                                      axis=1)\n",
        "\n",
        "def chainer(recID):\n",
        "    return list(chain.from_iterable(recID.str.split(' ')))\n",
        "\n",
        "# calculate lengths of splits\n",
        "lens = amazon_test_row_normalized['recID'].str.split(' ').map(len)\n",
        "\n",
        "# create new dataframe, repeating or chaining as appropriate\n",
        "amazon_test_final = pd.DataFrame({'itemID': np.repeat(amazon_test_row_normalized['itemID'], lens),\n",
        "                      'rank': np.repeat(amazon_test_row_normalized['rank'], lens),\n",
        "                      'recID': chainer(amazon_test_row_normalized['recID'])})\n",
        "amazon_test_final.sort_values(['itemID', 'rank'], inplace=True)\n",
        "amazon_test_final.to_csv(amazon_test_preprocessed_path, index=False, index_label=False)"
      ],
      "execution_count": 45,
      "outputs": []
    },
    {
      "cell_type": "code",
      "metadata": {
        "colab": {
          "base_uri": "https://localhost:8080/",
          "height": 657
        },
        "id": "khORkRyW5WVf",
        "outputId": "0716881f-e6db-4d7e-911a-a233b9c1ac53"
      },
      "source": [
        "print(amazon_test_final)\n",
        "amazon_test_final[amazon_test_final['itemID'] == 28853]"
      ],
      "execution_count": 46,
      "outputs": [
        {
          "output_type": "stream",
          "text": [
            "     itemID  rank  recID\n",
            "46     1460     1  50941\n",
            "279    1460     2  49045\n",
            "502    1680     3  36071\n",
            "132    2054     1  69675\n",
            "365    2054     2  14399\n",
            "..      ...   ...    ...\n",
            "7     78675     1  46591\n",
            "240   78675     2  22205\n",
            "473   78675     3  49569\n",
            "706   78675     4  28349\n",
            "939   78675     5  13656\n",
            "\n",
            "[977 rows x 3 columns]\n"
          ],
          "name": "stdout"
        },
        {
          "output_type": "execute_result",
          "data": {
            "text/html": [
              "<div>\n",
              "<style scoped>\n",
              "    .dataframe tbody tr th:only-of-type {\n",
              "        vertical-align: middle;\n",
              "    }\n",
              "\n",
              "    .dataframe tbody tr th {\n",
              "        vertical-align: top;\n",
              "    }\n",
              "\n",
              "    .dataframe thead th {\n",
              "        text-align: right;\n",
              "    }\n",
              "</style>\n",
              "<table border=\"1\" class=\"dataframe\">\n",
              "  <thead>\n",
              "    <tr style=\"text-align: right;\">\n",
              "      <th></th>\n",
              "      <th>itemID</th>\n",
              "      <th>rank</th>\n",
              "      <th>recID</th>\n",
              "    </tr>\n",
              "  </thead>\n",
              "  <tbody>\n",
              "    <tr>\n",
              "      <th>22</th>\n",
              "      <td>28853</td>\n",
              "      <td>1</td>\n",
              "      <td>63121</td>\n",
              "    </tr>\n",
              "    <tr>\n",
              "      <th>22</th>\n",
              "      <td>28853</td>\n",
              "      <td>1</td>\n",
              "      <td>74543</td>\n",
              "    </tr>\n",
              "    <tr>\n",
              "      <th>22</th>\n",
              "      <td>28853</td>\n",
              "      <td>1</td>\n",
              "      <td>60875</td>\n",
              "    </tr>\n",
              "    <tr>\n",
              "      <th>22</th>\n",
              "      <td>28853</td>\n",
              "      <td>1</td>\n",
              "      <td>76845</td>\n",
              "    </tr>\n",
              "    <tr>\n",
              "      <th>22</th>\n",
              "      <td>28853</td>\n",
              "      <td>1</td>\n",
              "      <td>63412</td>\n",
              "    </tr>\n",
              "    <tr>\n",
              "      <th>...</th>\n",
              "      <td>...</td>\n",
              "      <td>...</td>\n",
              "      <td>...</td>\n",
              "    </tr>\n",
              "    <tr>\n",
              "      <th>1187</th>\n",
              "      <td>28853</td>\n",
              "      <td>6</td>\n",
              "      <td>38552</td>\n",
              "    </tr>\n",
              "    <tr>\n",
              "      <th>1187</th>\n",
              "      <td>28853</td>\n",
              "      <td>6</td>\n",
              "      <td>72809</td>\n",
              "    </tr>\n",
              "    <tr>\n",
              "      <th>1187</th>\n",
              "      <td>28853</td>\n",
              "      <td>6</td>\n",
              "      <td>76810</td>\n",
              "    </tr>\n",
              "    <tr>\n",
              "      <th>1420</th>\n",
              "      <td>28853</td>\n",
              "      <td>7</td>\n",
              "      <td>53533</td>\n",
              "    </tr>\n",
              "    <tr>\n",
              "      <th>1420</th>\n",
              "      <td>28853</td>\n",
              "      <td>7</td>\n",
              "      <td>49833</td>\n",
              "    </tr>\n",
              "  </tbody>\n",
              "</table>\n",
              "<p>61 rows × 3 columns</p>\n",
              "</div>"
            ],
            "text/plain": [
              "      itemID  rank  recID\n",
              "22     28853     1  63121\n",
              "22     28853     1  74543\n",
              "22     28853     1  60875\n",
              "22     28853     1  76845\n",
              "22     28853     1  63412\n",
              "...      ...   ...    ...\n",
              "1187   28853     6  38552\n",
              "1187   28853     6  72809\n",
              "1187   28853     6  76810\n",
              "1420   28853     7  53533\n",
              "1420   28853     7  49833\n",
              "\n",
              "[61 rows x 3 columns]"
            ]
          },
          "metadata": {
            "tags": []
          },
          "execution_count": 46
        }
      ]
    }
  ]
}